{
 "cells": [
  {
   "cell_type": "code",
   "execution_count": 1,
   "id": "52af0f59",
   "metadata": {},
   "outputs": [],
   "source": [
    "import torch\n",
    "import random\n",
    "import glob"
   ]
  },
  {
   "cell_type": "code",
   "execution_count": 2,
   "id": "06ac4f29",
   "metadata": {},
   "outputs": [],
   "source": [
    "seed = 1995\n",
    "random.seed(seed)     # python random generator\n",
    "\n",
    "torch.manual_seed(seed)\n",
    "torch.cuda.manual_seed_all(seed)"
   ]
  },
  {
   "cell_type": "code",
   "execution_count": 3,
   "id": "3ae7d236",
   "metadata": {},
   "outputs": [
    {
     "data": {
      "text/plain": [
       "['./new data torch\\\\S11_dry',\n",
       " './new data torch\\\\S12_dry',\n",
       " './new data torch\\\\S13_dry',\n",
       " './new data torch\\\\S14_dry',\n",
       " './new data torch\\\\S21_dry',\n",
       " './new data torch\\\\S22_dry',\n",
       " './new data torch\\\\S23_dry',\n",
       " './new data torch\\\\S24_dry',\n",
       " './new data torch\\\\S31_dry',\n",
       " './new data torch\\\\S32_dry',\n",
       " './new data torch\\\\S33_dry',\n",
       " './new data torch\\\\S34_dry']"
      ]
     },
     "execution_count": 3,
     "metadata": {},
     "output_type": "execute_result"
    }
   ],
   "source": [
    "path = './new data torch/'\n",
    "allFiles = glob.glob(path + \"/*\")\n",
    "allFiles"
   ]
  },
  {
   "cell_type": "code",
   "execution_count": 4,
   "id": "218c755d",
   "metadata": {},
   "outputs": [
    {
     "name": "stdout",
     "output_type": "stream",
     "text": [
      "Working on : ./new data torch\\S11_dry\n",
      "Working on : ./new data torch\\S12_dry\n",
      "Working on : ./new data torch\\S13_dry\n",
      "Working on : ./new data torch\\S14_dry\n",
      "Working on : ./new data torch\\S21_dry\n",
      "Working on : ./new data torch\\S22_dry\n",
      "Working on : ./new data torch\\S23_dry\n",
      "Working on : ./new data torch\\S24_dry\n",
      "Working on : ./new data torch\\S31_dry\n",
      "Working on : ./new data torch\\S32_dry\n",
      "Working on : ./new data torch\\S33_dry\n",
      "Working on : ./new data torch\\S34_dry\n"
     ]
    }
   ],
   "source": [
    "all_data = []\n",
    "for file in allFiles:\n",
    "    print(\"Working on :\", file)\n",
    "    all_data.append(torch.load(file))"
   ]
  },
  {
   "cell_type": "code",
   "execution_count": 5,
   "id": "93937a15",
   "metadata": {},
   "outputs": [],
   "source": [
    "targets = [0,0,0,0, 1,1,1,1, 2,2,2,2]"
   ]
  },
  {
   "cell_type": "code",
   "execution_count": 6,
   "id": "64b2c888",
   "metadata": {},
   "outputs": [],
   "source": [
    "train_data = []\n",
    "train_targets = []\n",
    "test_data = []\n",
    "test_targets = []"
   ]
  },
  {
   "cell_type": "code",
   "execution_count": 7,
   "id": "a7d5042f",
   "metadata": {},
   "outputs": [
    {
     "name": "stdout",
     "output_type": "stream",
     "text": [
      "torch.Size([1050, 1, 35000])\n",
      "torch.Size([1055, 1, 35000])\n",
      "torch.Size([1353, 1, 35000])\n",
      "torch.Size([1021, 1, 35000])\n",
      "torch.Size([993, 1, 35000])\n",
      "torch.Size([1050, 1, 35000])\n",
      "torch.Size([1024, 1, 35000])\n",
      "torch.Size([974, 1, 35000])\n",
      "torch.Size([834, 1, 35000])\n",
      "torch.Size([1105, 1, 35000])\n",
      "torch.Size([988, 1, 35000])\n",
      "torch.Size([1075, 1, 35000])\n"
     ]
    }
   ],
   "source": [
    "i = 0\n",
    "for data in all_data:\n",
    "    print(data.shape)\n",
    "    shuffledIndexes = torch.randperm(data.size(0))\n",
    "    data = data[shuffledIndexes]\n",
    "    dataTrain = data.narrow(0, 0, int(data.size(0) * 0.8))\n",
    "    labelTrain = torch.ones(int(data.size(0) * 0.8))*targets[i]\n",
    "    dataTest = data.narrow(0, int(data.size(0) * 0.8), data.size(0)-int(data.size(0) * 0.8))\n",
    "    labelTest = torch.ones(data.size(0)-int(data.size(0) * 0.8))*targets[i]\n",
    "    i += 1\n",
    "    train_data.append(dataTrain)\n",
    "    train_targets.append(labelTrain)\n",
    "    test_data.append(dataTest)\n",
    "    test_targets.append(labelTest)"
   ]
  },
  {
   "cell_type": "code",
   "execution_count": 8,
   "id": "33661885",
   "metadata": {},
   "outputs": [
    {
     "data": {
      "text/plain": [
       "torch.Size([10015, 1, 35000])"
      ]
     },
     "execution_count": 8,
     "metadata": {},
     "output_type": "execute_result"
    }
   ],
   "source": [
    "train_data_torch = torch.cat(train_data, 0)\n",
    "train_data_torch.shape"
   ]
  },
  {
   "cell_type": "code",
   "execution_count": 9,
   "id": "212fd01a",
   "metadata": {},
   "outputs": [
    {
     "data": {
      "text/plain": [
       "torch.Size([10015])"
      ]
     },
     "execution_count": 9,
     "metadata": {},
     "output_type": "execute_result"
    }
   ],
   "source": [
    "train_targets_torch = torch.cat(train_targets, 0)\n",
    "train_targets_torch.shape"
   ]
  },
  {
   "cell_type": "code",
   "execution_count": 10,
   "id": "bb4b4079",
   "metadata": {},
   "outputs": [
    {
     "data": {
      "text/plain": [
       "torch.Size([2507, 1, 35000])"
      ]
     },
     "execution_count": 10,
     "metadata": {},
     "output_type": "execute_result"
    }
   ],
   "source": [
    "test_data_torch = torch.cat(test_data, 0)\n",
    "test_data_torch.shape"
   ]
  },
  {
   "cell_type": "code",
   "execution_count": 11,
   "id": "2ccb2a5d",
   "metadata": {},
   "outputs": [
    {
     "data": {
      "text/plain": [
       "torch.Size([2507])"
      ]
     },
     "execution_count": 11,
     "metadata": {},
     "output_type": "execute_result"
    }
   ],
   "source": [
    "test_targets_torch = torch.cat(test_targets, 0)\n",
    "test_targets_torch.shape"
   ]
  },
  {
   "cell_type": "code",
   "execution_count": 12,
   "id": "a43dd86f",
   "metadata": {},
   "outputs": [],
   "source": [
    "torch.save(train_data_torch, './data torch/train_data_torch_newADV.pt')\n",
    "torch.save(train_targets_torch, './data torch/train_targets_torch_newADV.pt')\n",
    "torch.save(test_data_torch, './data torch/test_data_torch_newADV.pt')\n",
    "torch.save(test_targets_torch, './data torch/test_targets_torch_newADV.pt')"
   ]
  }
 ],
 "metadata": {
  "kernelspec": {
   "display_name": "Python 3 (ipykernel)",
   "language": "python",
   "name": "python3"
  },
  "language_info": {
   "codemirror_mode": {
    "name": "ipython",
    "version": 3
   },
   "file_extension": ".py",
   "mimetype": "text/x-python",
   "name": "python",
   "nbconvert_exporter": "python",
   "pygments_lexer": "ipython3",
   "version": "3.9.12"
  }
 },
 "nbformat": 4,
 "nbformat_minor": 5
}

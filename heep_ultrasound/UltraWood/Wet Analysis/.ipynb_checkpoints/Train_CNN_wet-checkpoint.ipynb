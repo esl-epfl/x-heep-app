{
 "cells": [
  {
   "cell_type": "code",
   "execution_count": 1,
   "metadata": {},
   "outputs": [],
   "source": [
    "import torch\n",
    "import torch.utils.data\n",
    "import glob\n",
    "import random\n",
    "import numpy as np\n",
    "import pandas as pd\n",
    "from torch import nn, optim\n",
    "from torch.nn import functional as F\n",
    "import time\n",
    "from torch.nn.utils import weight_norm"
   ]
  },
  {
   "cell_type": "code",
   "execution_count": 2,
   "metadata": {},
   "outputs": [],
   "source": [
    "seed = 1995\n",
    "random.seed(seed)     # python random generator\n",
    "np.random.seed(seed)  # numpy random generator\n",
    "\n",
    "torch.manual_seed(seed)\n",
    "torch.cuda.manual_seed_all(seed)"
   ]
  },
  {
   "cell_type": "code",
   "execution_count": 3,
   "metadata": {},
   "outputs": [],
   "source": [
    "Fs = 100000"
   ]
  },
  {
   "cell_type": "code",
   "execution_count": 4,
   "metadata": {},
   "outputs": [],
   "source": [
    "train_data_torch = torch.load('../data/databases/train_data_torch_wet.pt')\n",
    "train_targets_torch = torch.load('../data/databases/train_targets_torch_wet.pt')\n",
    "\n",
    "test_data_torch = torch.load('../data/databases/test_data_torch_wet.pt')\n",
    "test_targets_torch = torch.load('../data/databases/test_targets_torch_wet.pt')"
   ]
  },
  {
   "cell_type": "code",
   "execution_count": 5,
   "metadata": {},
   "outputs": [
    {
     "name": "stdout",
     "output_type": "stream",
     "text": [
      "Dim Train Data:  torch.Size([6984, 1, 35000])\n",
      "Dim Train Targets:  torch.Size([6984])\n",
      "Dim Test Data:  torch.Size([1749, 1, 35000])\n",
      "Dim Train Targets:  torch.Size([1749])\n"
     ]
    }
   ],
   "source": [
    "print('Dim Train Data: ', train_data_torch.shape)\n",
    "print('Dim Train Targets: ', train_targets_torch.shape)\n",
    "print('Dim Test Data: ', test_data_torch.shape)\n",
    "print('Dim Train Targets: ', test_targets_torch.shape)"
   ]
  },
  {
   "cell_type": "code",
   "execution_count": 6,
   "metadata": {},
   "outputs": [],
   "source": [
    "numChannels = 1\n",
    "numClasses = 2"
   ]
  },
  {
   "cell_type": "code",
   "execution_count": 7,
   "metadata": {},
   "outputs": [],
   "source": [
    "import matplotlib.pyplot as plt\n",
    "i = 100"
   ]
  },
  {
   "cell_type": "code",
   "execution_count": 8,
   "metadata": {},
   "outputs": [
    {
     "data": {
      "text/plain": [
       "[<matplotlib.lines.Line2D at 0x1d86971e820>]"
      ]
     },
     "execution_count": 8,
     "metadata": {},
     "output_type": "execute_result"
    },
    {
     "data": {
      "image/png": "[encoded data removed]",
      "text/plain": [
       "<Figure size 432x288 with 1 Axes>"
      ]
     },
     "metadata": {
      "needs_background": "light"
     },
     "output_type": "display_data"
    }
   ],
   "source": [
    "plt.plot(train_data_torch.narrow(0, i, 1).narrow(1, 0, 1).view(-1).numpy())"
   ]
  },
  {
   "cell_type": "markdown",
   "metadata": {},
   "source": [
    "# This is the formula for computing the size of the output of every layer\n",
    "\n",
    "$$L_{out} = \\frac{L_{in}- Kernel_{size}}{stride}+1$$"
   ]
  },
  {
   "cell_type": "markdown",
   "metadata": {},
   "source": [
    "# Here there's and example: \n",
    "$input size = 1 * 20'000 * 4 $\n",
    "\n",
    "after the first convolution:\n",
    "$output = \\frac{20000-5000}{5}+1 = 3001$\n",
    "and the channels go from the initial 4 to the specified 32\n",
    "\n",
    "after the second convolution:\n",
    "$output = \\frac{3001-2002}{1}+1 = 1000$\n",
    "and the channels go from 32 to 64\n",
    "\n",
    "after the last convolution:\n",
    "$output = \\frac{1000-1000}{1}+1 = 1$\n",
    "and the channels go from 64 to 5 (as the number of classes!!!)\n",
    "\n",
    "\n"
   ]
  },
  {
   "cell_type": "code",
   "execution_count": 9,
   "metadata": {},
   "outputs": [],
   "source": [
    "class fastCNN(nn.Module): \n",
    "    def __init__(self):\n",
    "        super(fastCNN, self).__init__()\n",
    "        self.conv = nn.Conv1d(numChannels, 2, kernel_size=5000, stride=2) \n",
    "        self.bn = nn.BatchNorm1d(2) #15001\n",
    "        self.conv2 = nn.Conv1d(2, 2, kernel_size=5000, stride=2)\n",
    "        self.bn2 = nn.BatchNorm1d(2) #5001\n",
    "        self.conv3 = nn.Conv1d(2, 2, kernel_size=4500, stride=2)\n",
    "        self.bn3 = nn.BatchNorm1d(2) #251\n",
    "        self.conv4 = nn.Conv1d(2, numClasses, kernel_size=251)\n",
    "                \n",
    "    def forward(self, x):\n",
    "        x = F.relu(self.bn(self.conv(x)))\n",
    "        x = F.relu(self.bn2(self.conv2(x)))\n",
    "        x = F.relu(self.bn3(self.conv3(x)))\n",
    "        x = self.conv4(x)\n",
    "        x = x.view(-1, numClasses)\n",
    "        return x"
   ]
  },
  {
   "cell_type": "code",
   "execution_count": 10,
   "metadata": {},
   "outputs": [],
   "source": [
    "model, criterion = fastCNN(), nn.CrossEntropyLoss()"
   ]
  },
  {
   "cell_type": "code",
   "execution_count": 11,
   "metadata": {},
   "outputs": [],
   "source": [
    "def count_parameters(model): return sum(p.numel() for p in model.parameters() if p.requires_grad)"
   ]
  },
  {
   "cell_type": "code",
   "execution_count": 12,
   "metadata": {},
   "outputs": [
    {
     "data": {
      "text/plain": [
       "49024"
      ]
     },
     "execution_count": 12,
     "metadata": {},
     "output_type": "execute_result"
    }
   ],
   "source": [
    "count_parameters(model)"
   ]
  },
  {
   "cell_type": "code",
   "execution_count": 13,
   "metadata": {},
   "outputs": [],
   "source": [
    "def compute_nb_errors(model, testing_generator):\n",
    "    nb_errors=0\n",
    "    with torch.set_grad_enabled(False):\n",
    "        for local_batch, local_labels in testing_generator:\n",
    "            if (torch.cuda.is_available()):\n",
    "                # Transfer to GPU\n",
    "                local_batch, local_labels = local_batch.cuda(), local_labels.cuda()\n",
    "            outputTest = model(local_batch)\n",
    "            predicted_classes = outputTest.max(1)[1]\n",
    "            nb_errors += (predicted_classes != local_labels).long().sum()\n",
    "\n",
    "    return nb_errors"
   ]
  },
  {
   "cell_type": "code",
   "execution_count": 14,
   "metadata": {},
   "outputs": [],
   "source": [
    "if (torch.cuda.is_available()):\n",
    "    model = model.cuda()"
   ]
  },
  {
   "cell_type": "code",
   "execution_count": 15,
   "metadata": {},
   "outputs": [],
   "source": [
    "train_input = train_data_torch.view(train_data_torch.size(0), numChannels, -1).float()\n",
    "train_target = train_targets_torch.long().view(-1)\n",
    "test_input = test_data_torch.view(test_data_torch.size(0), numChannels, -1).float()\n",
    "test_target = test_targets_torch.long().view(-1)"
   ]
  },
  {
   "cell_type": "code",
   "execution_count": 16,
   "metadata": {},
   "outputs": [
    {
     "data": {
      "text/plain": [
       "torch.Size([6984, 1, 35000])"
      ]
     },
     "execution_count": 16,
     "metadata": {},
     "output_type": "execute_result"
    }
   ],
   "source": [
    "train_input.shape"
   ]
  },
  {
   "cell_type": "code",
   "execution_count": 17,
   "metadata": {},
   "outputs": [],
   "source": [
    "train_input = (train_input-torch.mean(train_input,2,keepdim=True))/(4096.0/2)\n",
    "test_input = (test_input-torch.mean(test_input,2,keepdim=True))/(4096.0/2)"
   ]
  },
  {
   "cell_type": "code",
   "execution_count": 18,
   "metadata": {},
   "outputs": [
    {
     "data": {
      "text/plain": [
       "[<matplotlib.lines.Line2D at 0x1d869bbdbe0>]"
      ]
     },
     "execution_count": 18,
     "metadata": {},
     "output_type": "execute_result"
    },
    {
     "data": {
      "image/png": "[encoded data removed]",
      "text/plain": [
       "<Figure size 432x288 with 1 Axes>"
      ]
     },
     "metadata": {
      "needs_background": "light"
     },
     "output_type": "display_data"
    }
   ],
   "source": [
    "plt.plot(train_input.narrow(0, i, 1).narrow(1, 0, 1).view(-1).numpy())"
   ]
  },
  {
   "cell_type": "code",
   "execution_count": 19,
   "metadata": {},
   "outputs": [
    {
     "data": {
      "text/plain": [
       "[<matplotlib.lines.Line2D at 0x1d87fe8b100>]"
      ]
     },
     "execution_count": 19,
     "metadata": {},
     "output_type": "execute_result"
    },
    {
     "data": {
      "image/png": "[encoded data removed]",
      "text/plain": [
       "<Figure size 432x288 with 1 Axes>"
      ]
     },
     "metadata": {
      "needs_background": "light"
     },
     "output_type": "display_data"
    }
   ],
   "source": [
    "plt.plot(test_input.narrow(0, i, 1).narrow(1, 0, 1).view(-1).numpy())"
   ]
  },
  {
   "cell_type": "code",
   "execution_count": 20,
   "metadata": {},
   "outputs": [
    {
     "data": {
      "text/plain": [
       "torch.Size([2, 1, 35000])"
      ]
     },
     "execution_count": 20,
     "metadata": {},
     "output_type": "execute_result"
    }
   ],
   "source": [
    "train_input.narrow(0, 0, 2).shape"
   ]
  },
  {
   "cell_type": "code",
   "execution_count": 21,
   "metadata": {},
   "outputs": [
    {
     "data": {
      "text/plain": [
       "torch.Size([2, 2])"
      ]
     },
     "execution_count": 21,
     "metadata": {},
     "output_type": "execute_result"
    }
   ],
   "source": [
    "out = model(train_input.narrow(0, 0, 2).cuda())\n",
    "out.shape"
   ]
  },
  {
   "cell_type": "code",
   "execution_count": 22,
   "metadata": {},
   "outputs": [],
   "source": [
    "lr = 3e-3"
   ]
  },
  {
   "cell_type": "code",
   "execution_count": 23,
   "metadata": {},
   "outputs": [],
   "source": [
    "optimizer = optim.Adam(model.parameters(), lr = lr)\n",
    "nb_epochs = 100\n",
    "scheduler = torch.optim.lr_scheduler.ReduceLROnPlateau(optimizer, 'min', verbose=True, factor=0.2, patience = 30)"
   ]
  },
  {
   "cell_type": "code",
   "execution_count": 24,
   "metadata": {},
   "outputs": [],
   "source": [
    "class errorsTable():\n",
    "    def __init__(self):\n",
    "        self.accuracyMatr = np.zeros((numClasses,numClasses))\n",
    "    def newEntry(self,predictions,groundTruths):\n",
    "        for pred,tru in zip(predictions,groundTruths):\n",
    "            #print(pred, tru)\n",
    "            self.accuracyMatr[pred,tru]+=1\n",
    "    def getStats(self):\n",
    "        #print(self.accuracyMatr)\n",
    "        numEntry = np.sum(self.accuracyMatr,0)\n",
    "        resultMatr = self.accuracyMatr/numEntry\n",
    "        return resultMatr"
   ]
  },
  {
   "cell_type": "code",
   "execution_count": 25,
   "metadata": {},
   "outputs": [],
   "source": [
    "np.set_printoptions(precision=2, suppress=True)"
   ]
  },
  {
   "cell_type": "code",
   "execution_count": 26,
   "metadata": {},
   "outputs": [],
   "source": [
    "batch_size_train = 2000\n",
    "batch_size_test = 1000"
   ]
  },
  {
   "cell_type": "code",
   "execution_count": 27,
   "metadata": {},
   "outputs": [],
   "source": [
    "#torch.backends.cudnn.enabled = False"
   ]
  },
  {
   "cell_type": "code",
   "execution_count": 28,
   "metadata": {},
   "outputs": [],
   "source": [
    "training_set = torch.utils.data.TensorDataset(train_input, train_target)\n",
    "testing_set = torch.utils.data.TensorDataset(test_input, test_target)"
   ]
  },
  {
   "cell_type": "code",
   "execution_count": 29,
   "metadata": {},
   "outputs": [],
   "source": [
    "# Generators\n",
    "training_generator = torch.utils.data.DataLoader(training_set, batch_size=batch_size_train, num_workers=0,\n",
    "                                                shuffle=True, drop_last=True)\n",
    "testing_generator = torch.utils.data.DataLoader(testing_set, batch_size=batch_size_test, num_workers=0,\n",
    "                                                 shuffle=False, drop_last=False)"
   ]
  },
  {
   "cell_type": "code",
   "execution_count": 30,
   "metadata": {
    "scrolled": true
   },
   "outputs": [
    {
     "name": "stdout",
     "output_type": "stream",
     "text": [
      "Epoch:  0\n",
      "Loss is  0.8148159597064758\n",
      "Loss TEST is  0.6838960280038071\n",
      "\n",
      "The accuracy in TEST is: \n",
      "  1    2    3   \n",
      "[[0. 0.]\n",
      " [1. 1.]]\n",
      "The accuracy in TRAIN is: \n",
      "  1    2    3   \n",
      "[[0.42 0.66]\n",
      " [0.58 0.34]]\n",
      "----------------------\n",
      "Hey! Ten epochs are passed! We are getting older\n",
      "Epoch:  1\n",
      "Loss is  0.5946427344729673\n",
      "Loss TEST is  3.357088331907682\n",
      "\n",
      "The accuracy in TEST is: \n",
      "  1    2    3   \n",
      "[[0. 0.]\n",
      " [1. 1.]]\n",
      "The accuracy in TRAIN is: \n",
      "  1    2    3   \n",
      "[[0.33 0.23]\n",
      " [0.67 0.77]]\n",
      "----------------------\n",
      "Epoch:  2\n",
      "Loss is  0.5459243523432763\n",
      "Loss TEST is  3.9459832886352504\n",
      "\n",
      "The accuracy in TEST is: \n",
      "  1    2    3   \n",
      "[[0. 0.]\n",
      " [1. 1.]]\n",
      "The accuracy in TRAIN is: \n",
      "  1    2    3   \n",
      "[[0.33 0.12]\n",
      " [0.67 0.88]]\n",
      "----------------------\n",
      "Epoch:  3\n",
      "Loss is  0.4653127401008912\n",
      "Loss TEST is  8.12820600331886\n",
      "\n",
      "The accuracy in TEST is: \n",
      "  1    2    3   \n",
      "[[0. 0.]\n",
      " [1. 1.]]\n",
      "The accuracy in TRAIN is: \n",
      "  1    2    3   \n",
      "[[0.74 0.33]\n",
      " [0.26 0.67]]\n",
      "----------------------\n",
      "Epoch:  4\n",
      "Loss is  0.35750069671480106\n",
      "Loss TEST is  12.559636652026605\n",
      "\n",
      "The accuracy in TEST is: \n",
      "  1    2    3   \n",
      "[[0. 0.]\n",
      " [1. 1.]]\n",
      "The accuracy in TRAIN is: \n",
      "  1    2    3   \n",
      "[[0.74 0.05]\n",
      " [0.26 0.95]]\n",
      "----------------------\n",
      "Epoch:  5\n",
      "Loss is  0.2798143633452478\n",
      "Loss TEST is  14.94421394570614\n",
      "\n",
      "The accuracy in TEST is: \n",
      "  1    2    3   \n",
      "[[0. 0.]\n",
      " [1. 1.]]\n",
      "The accuracy in TRAIN is: \n",
      "  1    2    3   \n",
      "[[0.74 0.01]\n",
      " [0.26 0.99]]\n",
      "----------------------\n",
      "Epoch:  6\n",
      "Loss is  0.19579207501187493\n",
      "Loss TEST is  16.348878610740737\n",
      "\n",
      "The accuracy in TEST is: \n",
      "  1    2    3   \n",
      "[[0. 0.]\n",
      " [1. 1.]]\n",
      "The accuracy in TRAIN is: \n",
      "  1    2    3   \n",
      "[[0.81 0.02]\n",
      " [0.19 0.98]]\n",
      "----------------------\n",
      "Epoch:  7\n",
      "Loss is  0.11382053125082149\n",
      "Loss TEST is  18.18876228310709\n",
      "\n",
      "The accuracy in TEST is: \n",
      "  1    2    3   \n",
      "[[0. 0.]\n",
      " [1. 1.]]\n",
      "The accuracy in TRAIN is: \n",
      "  1    2    3   \n",
      "[[0.98 0.04]\n",
      " [0.02 0.96]]\n",
      "----------------------\n",
      "Epoch:  8\n",
      "Loss is  0.0495542276048988\n",
      "Loss TEST is  19.636059298114546\n",
      "\n",
      "The accuracy in TEST is: \n",
      "  1    2    3   \n",
      "[[0. 0.]\n",
      " [1. 1.]]\n",
      "The accuracy in TRAIN is: \n",
      "  1    2    3   \n",
      "[[1.   0.02]\n",
      " [0.   0.98]]\n",
      "----------------------\n",
      "Epoch:  9\n",
      "Loss is  0.029998692766019706\n",
      "Loss TEST is  20.183646113208663\n",
      "\n",
      "The accuracy in TEST is: \n",
      "  1    2    3   \n",
      "[[0. 0.]\n",
      " [1. 1.]]\n",
      "The accuracy in TRAIN is: \n",
      "  1    2    3   \n",
      "[[1.   0.01]\n",
      " [0.   0.99]]\n",
      "----------------------\n",
      "Epoch:  10\n",
      "Loss is  0.0175326147286343\n",
      "Loss TEST is  19.991063880811357\n",
      "\n",
      "The accuracy in TEST is: \n",
      "  1    2    3   \n",
      "[[0. 0.]\n",
      " [1. 1.]]\n",
      "The accuracy in TRAIN is: \n",
      "  1    2    3   \n",
      "[[1. 0.]\n",
      " [0. 1.]]\n",
      "----------------------\n",
      "Hey! Ten epochs are passed! We are getting older\n",
      "Epoch:  11\n",
      "Loss is  0.007351200450489133\n",
      "Loss TEST is  19.094714714909635\n",
      "\n",
      "The accuracy in TEST is: \n",
      "  1    2    3   \n",
      "[[0. 0.]\n",
      " [1. 1.]]\n",
      "The accuracy in TRAIN is: \n",
      "  1    2    3   \n",
      "[[1. 0.]\n",
      " [0. 1.]]\n",
      "----------------------\n",
      "Epoch:  12\n",
      "Loss is  0.0039012375888324\n",
      "Loss TEST is  17.508950078057996\n",
      "\n",
      "The accuracy in TEST is: \n",
      "  1    2    3   \n",
      "[[0. 0.]\n",
      " [1. 1.]]\n",
      "The accuracy in TRAIN is: \n",
      "  1    2    3   \n",
      "[[1. 0.]\n",
      " [0. 1.]]\n",
      "----------------------\n",
      "Epoch:  13\n",
      "Loss is  0.0027111446232090087\n",
      "Loss TEST is  15.398137837972145\n",
      "\n",
      "The accuracy in TEST is: \n",
      "  1    2    3   \n",
      "[[0. 0.]\n",
      " [1. 1.]]\n",
      "The accuracy in TRAIN is: \n",
      "  1    2    3   \n",
      "[[1. 0.]\n",
      " [0. 1.]]\n",
      "----------------------\n",
      "Epoch:  14\n",
      "Loss is  0.0021870582463712628\n",
      "Loss TEST is  12.94969871699844\n",
      "\n",
      "The accuracy in TEST is: \n",
      "  1    2    3   \n",
      "[[0. 0.]\n",
      " [1. 1.]]\n",
      "The accuracy in TRAIN is: \n",
      "  1    2    3   \n",
      "[[1. 0.]\n",
      " [0. 1.]]\n",
      "----------------------\n",
      "Epoch:  15\n",
      "Loss is  0.0017685718679179747\n",
      "Loss TEST is  10.427553494226053\n",
      "\n",
      "The accuracy in TEST is: \n",
      "  1    2    3   \n",
      "[[0. 0.]\n",
      " [1. 1.]]\n",
      "The accuracy in TRAIN is: \n",
      "  1    2    3   \n",
      "[[1. 0.]\n",
      " [0. 1.]]\n",
      "----------------------\n",
      "Epoch:  16\n",
      "Loss is  0.0013379094202630435\n",
      "Loss TEST is  8.022540633919718\n",
      "\n",
      "The accuracy in TEST is: \n",
      "  1    2    3   \n",
      "[[0. 0.]\n",
      " [1. 1.]]\n",
      "The accuracy in TRAIN is: \n",
      "  1    2    3   \n",
      "[[1. 0.]\n",
      " [0. 1.]]\n",
      "----------------------\n",
      "Epoch:  17\n",
      "Loss is  0.0008983933906906198\n",
      "Loss TEST is  5.818326109269471\n",
      "\n",
      "The accuracy in TEST is: \n",
      "  1    2    3   \n",
      "[[0. 0.]\n",
      " [1. 1.]]\n",
      "The accuracy in TRAIN is: \n",
      "  1    2    3   \n",
      "[[1. 0.]\n",
      " [0. 1.]]\n",
      "----------------------\n",
      "Epoch:  18\n",
      "Loss is  0.0007025677507278112\n",
      "Loss TEST is  3.8135159417790914\n",
      "\n",
      "The accuracy in TEST is: \n",
      "  1    2    3   \n",
      "[[0. 0.]\n",
      " [1. 1.]]\n",
      "The accuracy in TRAIN is: \n",
      "  1    2    3   \n",
      "[[1. 0.]\n",
      " [0. 1.]]\n",
      "----------------------\n",
      "Epoch:  19\n",
      "Loss is  0.0005518880525800183\n",
      "Loss TEST is  2.215604634882042\n",
      "\n",
      "The accuracy in TEST is: \n",
      "  1    2    3   \n",
      "[[0.22 0.  ]\n",
      " [0.78 1.  ]]\n",
      "The accuracy in TRAIN is: \n",
      "  1    2    3   \n",
      "[[1. 0.]\n",
      " [0. 1.]]\n",
      "----------------------\n",
      "Epoch:  20\n",
      "Loss is  0.00046870384608285515\n",
      "Loss TEST is  1.311469311847763\n",
      "\n",
      "The accuracy in TEST is: \n",
      "  1    2    3   \n",
      "[[0.52 0.  ]\n",
      " [0.48 1.  ]]\n",
      "The accuracy in TRAIN is: \n",
      "  1    2    3   \n",
      "[[1. 0.]\n",
      " [0. 1.]]\n",
      "----------------------\n",
      "Hey! Ten epochs are passed! We are getting older\n",
      "Epoch:  21\n",
      "Loss is  0.000354411645353967\n",
      "Loss TEST is  0.6995884995244877\n",
      "\n",
      "The accuracy in TEST is: \n",
      "  1    2    3   \n",
      "[[0.53 0.  ]\n",
      " [0.47 1.  ]]\n",
      "The accuracy in TRAIN is: \n",
      "  1    2    3   \n",
      "[[1. 0.]\n",
      " [0. 1.]]\n",
      "----------------------\n",
      "Epoch:  22\n",
      "Loss is  0.0002901285931703774\n",
      "Loss TEST is  0.2937397693749143\n",
      "\n",
      "The accuracy in TEST is: \n",
      "  1    2    3   \n",
      "[[0.75 0.  ]\n",
      " [0.25 1.  ]]\n",
      "The accuracy in TRAIN is: \n",
      "  1    2    3   \n",
      "[[1. 0.]\n",
      " [0. 1.]]\n",
      "----------------------\n",
      "Epoch:  23\n",
      "Loss is  0.0002504191752085793\n",
      "Loss TEST is  0.11129263422410075\n",
      "\n",
      "The accuracy in TEST is: \n",
      "  1    2    3   \n",
      "[[0.92 0.  ]\n",
      " [0.08 1.  ]]\n",
      "The accuracy in TRAIN is: \n",
      "  1    2    3   \n",
      "[[1. 0.]\n",
      " [0. 1.]]\n",
      "----------------------\n",
      "Epoch:  24\n",
      "Loss is  0.00020810374342687085\n",
      "Loss TEST is  0.03961683473301732\n",
      "\n",
      "The accuracy in TEST is: \n",
      "  1    2    3   \n",
      "[[0.95 0.  ]\n",
      " [0.05 1.  ]]\n",
      "The accuracy in TRAIN is: \n",
      "  1    2    3   \n",
      "[[1. 0.]\n",
      " [0. 1.]]\n",
      "----------------------\n",
      "Epoch:  25\n",
      "Loss is  0.00018221659049496295\n",
      "Loss TEST is  0.012568559470628758\n",
      "\n",
      "The accuracy in TEST is: \n",
      "  1    2    3   \n",
      "[[0.99 0.  ]\n",
      " [0.01 1.  ]]\n",
      "The accuracy in TRAIN is: \n",
      "  1    2    3   \n",
      "[[1. 0.]\n",
      " [0. 1.]]\n",
      "----------------------\n",
      "Epoch:  26\n",
      "Loss is  0.00019267387931525307\n",
      "Loss TEST is  0.0038969350237381085\n",
      "\n",
      "The accuracy in TEST is: \n",
      "  1    2    3   \n",
      "[[1. 0.]\n",
      " [0. 1.]]\n",
      "The accuracy in TRAIN is: \n",
      "  1    2    3   \n",
      "[[1. 0.]\n",
      " [0. 1.]]\n",
      "----------------------\n",
      "Epoch:  27\n",
      "Loss is  0.00015980852462451603\n",
      "Loss TEST is  0.001485746697970872\n",
      "\n",
      "The accuracy in TEST is: \n",
      "  1    2    3   \n",
      "[[1. 0.]\n",
      " [0. 1.]]\n",
      "The accuracy in TRAIN is: \n",
      "  1    2    3   \n",
      "[[1. 0.]\n",
      " [0. 1.]]\n",
      "----------------------\n",
      "Epoch:  28\n",
      "Loss is  0.00013245244919592332\n",
      "Loss TEST is  0.0006476291037408109\n",
      "\n",
      "The accuracy in TEST is: \n",
      "  1    2    3   \n",
      "[[1. 0.]\n",
      " [0. 1.]]\n",
      "The accuracy in TRAIN is: \n",
      "  1    2    3   \n",
      "[[1. 0.]\n",
      " [0. 1.]]\n",
      "----------------------\n",
      "Epoch:  29\n",
      "Loss is  0.00012388086689338473\n",
      "Loss TEST is  0.00036095335850444327\n",
      "\n",
      "The accuracy in TEST is: \n",
      "  1    2    3   \n",
      "[[1. 0.]\n",
      " [0. 1.]]\n",
      "The accuracy in TRAIN is: \n",
      "  1    2    3   \n",
      "[[1. 0.]\n",
      " [0. 1.]]\n",
      "----------------------\n",
      "Epoch:  30\n",
      "Loss is  0.00012614345218013345\n",
      "Loss TEST is  0.0002268952273655488\n",
      "\n",
      "The accuracy in TEST is: \n",
      "  1    2    3   \n",
      "[[1. 0.]\n",
      " [0. 1.]]\n",
      "The accuracy in TRAIN is: \n",
      "  1    2    3   \n",
      "[[1. 0.]\n",
      " [0. 1.]]\n",
      "----------------------\n",
      "Hey! Ten epochs are passed! We are getting older\n",
      "Epoch:  31\n",
      "Loss is  0.0001206240632540876\n",
      "Loss TEST is  0.00016857220716748504\n",
      "\n",
      "The accuracy in TEST is: \n",
      "  1    2    3   \n",
      "[[1. 0.]\n",
      " [0. 1.]]\n",
      "The accuracy in TRAIN is: \n",
      "  1    2    3   \n",
      "[[1. 0.]\n",
      " [0. 1.]]\n",
      "----------------------\n",
      "Epoch:  32\n",
      "Loss is  0.00010820053856729723\n",
      "Loss TEST is  0.0001403077029301069\n",
      "\n",
      "The accuracy in TEST is: \n",
      "  1    2    3   \n",
      "[[1. 0.]\n",
      " [0. 1.]]\n",
      "The accuracy in TRAIN is: \n",
      "  1    2    3   \n",
      "[[1. 0.]\n",
      " [0. 1.]]\n",
      "----------------------\n",
      "Epoch:  33\n",
      "Loss is  0.00010929261354909824\n",
      "Loss TEST is  0.00012744515990157355\n",
      "\n",
      "The accuracy in TEST is: \n",
      "  1    2    3   \n",
      "[[1. 0.]\n",
      " [0. 1.]]\n",
      "The accuracy in TRAIN is: \n",
      "  1    2    3   \n",
      "[[1. 0.]\n",
      " [0. 1.]]\n",
      "----------------------\n",
      "Epoch:  34\n",
      "Loss is  9.796492475576225e-05\n",
      "Loss TEST is  0.00011868751998881614\n",
      "\n",
      "The accuracy in TEST is: \n",
      "  1    2    3   \n",
      "[[1. 0.]\n",
      " [0. 1.]]\n",
      "The accuracy in TRAIN is: \n",
      "  1    2    3   \n",
      "[[1. 0.]\n",
      " [0. 1.]]\n",
      "----------------------\n",
      "Epoch:  35\n",
      "Loss is  8.572782877217104e-05\n"
     ]
    },
    {
     "name": "stdout",
     "output_type": "stream",
     "text": [
      "Loss TEST is  0.00011286518318919927\n",
      "\n",
      "The accuracy in TEST is: \n",
      "  1    2    3   \n",
      "[[1. 0.]\n",
      " [0. 1.]]\n",
      "The accuracy in TRAIN is: \n",
      "  1    2    3   \n",
      "[[1. 0.]\n",
      " [0. 1.]]\n",
      "----------------------\n",
      "Epoch:  36\n",
      "Loss is  8.136856336736537e-05\n",
      "Loss TEST is  0.00010932232720678616\n",
      "\n",
      "The accuracy in TEST is: \n",
      "  1    2    3   \n",
      "[[1. 0.]\n",
      " [0. 1.]]\n",
      "The accuracy in TRAIN is: \n",
      "  1    2    3   \n",
      "[[1. 0.]\n",
      " [0. 1.]]\n",
      "----------------------\n",
      "Epoch:  37\n",
      "Loss is  7.763492822060884e-05\n",
      "Loss TEST is  0.0001075533520120285\n",
      "\n",
      "The accuracy in TEST is: \n",
      "  1    2    3   \n",
      "[[1. 0.]\n",
      " [0. 1.]]\n",
      "The accuracy in TRAIN is: \n",
      "  1    2    3   \n",
      "[[1. 0.]\n",
      " [0. 1.]]\n",
      "----------------------\n",
      "Epoch:  38\n",
      "Loss is  7.690644484236815e-05\n",
      "Loss TEST is  0.00010461563747430784\n",
      "\n",
      "The accuracy in TEST is: \n",
      "  1    2    3   \n",
      "[[1. 0.]\n",
      " [0. 1.]]\n",
      "The accuracy in TRAIN is: \n",
      "  1    2    3   \n",
      "[[1. 0.]\n",
      " [0. 1.]]\n",
      "----------------------\n",
      "Epoch:  39\n",
      "Loss is  8.636803178152417e-05\n",
      "Loss TEST is  0.00010181656645452779\n",
      "\n",
      "The accuracy in TEST is: \n",
      "  1    2    3   \n",
      "[[1. 0.]\n",
      " [0. 1.]]\n",
      "The accuracy in TRAIN is: \n",
      "  1    2    3   \n",
      "[[1. 0.]\n",
      " [0. 1.]]\n",
      "----------------------\n",
      "Epoch:  40\n",
      "Loss is  7.087725131915945e-05\n",
      "Loss TEST is  9.805145798089423e-05\n",
      "\n",
      "The accuracy in TEST is: \n",
      "  1    2    3   \n",
      "[[1. 0.]\n",
      " [0. 1.]]\n",
      "The accuracy in TRAIN is: \n",
      "  1    2    3   \n",
      "[[1. 0.]\n",
      " [0. 1.]]\n",
      "----------------------\n",
      "Hey! Ten epochs are passed! We are getting older\n",
      "Epoch:  41\n",
      "Loss is  6.439738181424472e-05\n",
      "Loss TEST is  9.465783545848572e-05\n",
      "\n",
      "The accuracy in TEST is: \n",
      "  1    2    3   \n",
      "[[1. 0.]\n",
      " [0. 1.]]\n",
      "The accuracy in TRAIN is: \n",
      "  1    2    3   \n",
      "[[1. 0.]\n",
      " [0. 1.]]\n",
      "----------------------\n",
      "Epoch:  42\n",
      "Loss is  6.701115498872407e-05\n",
      "Loss TEST is  9.106593022816279e-05\n",
      "\n",
      "The accuracy in TEST is: \n",
      "  1    2    3   \n",
      "[[1. 0.]\n",
      " [0. 1.]]\n",
      "The accuracy in TRAIN is: \n",
      "  1    2    3   \n",
      "[[1. 0.]\n",
      " [0. 1.]]\n",
      "----------------------\n",
      "Epoch:  43\n",
      "Loss is  6.865988865098409e-05\n",
      "Loss TEST is  8.951904366789689e-05\n",
      "\n",
      "The accuracy in TEST is: \n",
      "  1    2    3   \n",
      "[[1. 0.]\n",
      " [0. 1.]]\n",
      "The accuracy in TRAIN is: \n",
      "  1    2    3   \n",
      "[[1. 0.]\n",
      " [0. 1.]]\n",
      "----------------------\n",
      "Epoch:  44\n",
      "Loss is  6.343260483657846e-05\n",
      "Loss TEST is  8.628397315612522e-05\n",
      "\n",
      "The accuracy in TEST is: \n",
      "  1    2    3   \n",
      "[[1. 0.]\n",
      " [0. 1.]]\n",
      "The accuracy in TRAIN is: \n",
      "  1    2    3   \n",
      "[[1. 0.]\n",
      " [0. 1.]]\n",
      "----------------------\n",
      "Epoch:  45\n"
     ]
    },
    {
     "ename": "KeyboardInterrupt",
     "evalue": "",
     "output_type": "error",
     "traceback": [
      "\u001b[1;31m---------------------------------------------------------------------------\u001b[0m",
      "\u001b[1;31mKeyboardInterrupt\u001b[0m                         Traceback (most recent call last)",
      "Input \u001b[1;32mIn [30]\u001b[0m, in \u001b[0;36m<cell line: 5>\u001b[1;34m()\u001b[0m\n\u001b[0;32m     14\u001b[0m \u001b[38;5;28;01mfor\u001b[39;00m local_batch, local_labels \u001b[38;5;129;01min\u001b[39;00m training_generator:\n\u001b[0;32m     15\u001b[0m     \u001b[38;5;28;01mif\u001b[39;00m (torch\u001b[38;5;241m.\u001b[39mcuda\u001b[38;5;241m.\u001b[39mis_available()):\n\u001b[0;32m     16\u001b[0m         \u001b[38;5;66;03m# Transfer to GPU\u001b[39;00m\n\u001b[1;32m---> 17\u001b[0m         local_batch, local_labels \u001b[38;5;241m=\u001b[39m \u001b[43mlocal_batch\u001b[49m\u001b[38;5;241;43m.\u001b[39;49m\u001b[43mcuda\u001b[49m\u001b[43m(\u001b[49m\u001b[43m)\u001b[49m, local_labels\u001b[38;5;241m.\u001b[39mcuda()       \n\u001b[0;32m     18\u001b[0m     model\u001b[38;5;241m.\u001b[39mzero_grad()\n\u001b[0;32m     19\u001b[0m     output \u001b[38;5;241m=\u001b[39m model(local_batch)\n",
      "\u001b[1;31mKeyboardInterrupt\u001b[0m: "
     ]
    }
   ],
   "source": [
    "loss_train = []\n",
    "loss_test = []\n",
    "\n",
    "t = time.time()\n",
    "for k in range (nb_epochs):\n",
    "    \n",
    "    # Create a new error table\n",
    "    accuracyTRAIN = errorsTable()\n",
    "    accuracyTEST = errorsTable()\n",
    "    print('Epoch: ', k)\n",
    "    model.train()\n",
    "\n",
    "    lossValue = 0\n",
    "    for local_batch, local_labels in training_generator:\n",
    "        if (torch.cuda.is_available()):\n",
    "            # Transfer to GPU\n",
    "            local_batch, local_labels = local_batch.cuda(), local_labels.cuda()       \n",
    "        model.zero_grad()\n",
    "        output = model(local_batch)\n",
    "        accuracyTRAIN.newEntry(output.max(1)[1], local_labels)\n",
    "        loss = criterion(output, local_labels)\n",
    "        lossValue += loss.item()*local_batch.size(0)\n",
    "        loss.backward()\n",
    "        optimizer.step()\n",
    "    scheduler.step(lossValue/train_input.size(0))\n",
    "    print('Loss is ', lossValue/train_input.size(0))\n",
    "    loss_train.append(lossValue/train_input.size(0))    \n",
    "    ################################################################    \n",
    "    model.eval()\n",
    "    lossValue = 0 \n",
    "    with torch.set_grad_enabled(False):\n",
    "        for local_batch, local_labels in testing_generator:\n",
    "            if (torch.cuda.is_available()):\n",
    "                # Transfer to GPU\n",
    "                local_batch, local_labels = local_batch.cuda(), local_labels.cuda()\n",
    "            outputTest = model(local_batch)\n",
    "            accuracyTEST.newEntry(outputTest.max(1)[1], local_labels)\n",
    "            lossTest = criterion(outputTest, local_labels)\n",
    "            lossValue += lossTest.item()*local_batch.size(0)\n",
    "    print('Loss TEST is ', lossValue/test_input.size(0))\n",
    "    loss_test.append(lossValue/test_input.size(0))\n",
    "    print(\"\")\n",
    "    print(\"The accuracy in TEST is: \")\n",
    "    print(\"  1    2    3   \")\n",
    "    print(accuracyTEST.getStats())\n",
    "    print(\"The accuracy in TRAIN is: \")\n",
    "    print(\"  1    2    3   \")\n",
    "    print(accuracyTRAIN.getStats())\n",
    "    print(\"----------------------\")\n",
    "    if k%10 == 0:\n",
    "        #nb_test_errors = compute_nb_errors(model, test_input, test_target, batch_size_test)\n",
    "\n",
    "        #print(k, ': Test accuracy Net {:0.2f}%% {:d}/{:d}'.format(100-(100 * nb_test_errors) / test_input.size(0),\n",
    "                                                     #nb_test_errors, test_input.size(0)))\n",
    "        \n",
    "\n",
    "        #nb_train_errors = compute_nb_errors(model, train_input, train_target, batch_size_train)\n",
    "\n",
    "        #print(k, ': Train accuracy Net {:0.2f}%% {:d}/{:d}'.format(100-(100 * nb_train_errors) / train_input.size(0),\n",
    "                                                          #nb_train_errors, train_input.size(0)))\n",
    "        print(\"Hey! Ten epochs are passed! We are getting older\")\n",
    "        \n",
    "        \n",
    "\n",
    "\n",
    "nb_test_errors = compute_nb_errors(model, testing_generator)  \n",
    "print('Final Test error Net {:0.2f}% {:d}/{:d}'.format((100 * nb_test_errors) / test_input.size(0),\n",
    "                                                  nb_test_errors, test_input.size(0)))\n",
    "\n",
    "elapsed = time.time() - t\n",
    "print(elapsed)"
   ]
  },
  {
   "cell_type": "code",
   "execution_count": 31,
   "metadata": {},
   "outputs": [
    {
     "name": "stdout",
     "output_type": "stream",
     "text": [
      "Loss TEST is  8.612398348448893e-05\n",
      "\n",
      "The accuracy in TEST is: \n",
      "  1       2\n",
      "[[1. 0.]\n",
      " [0. 1.]]\n"
     ]
    }
   ],
   "source": [
    "accuracyTEST = errorsTable()\n",
    "\n",
    "model.eval()\n",
    "lossValue = 0 \n",
    "with torch.set_grad_enabled(False):\n",
    "    for local_batch, local_labels in testing_generator:\n",
    "        if (torch.cuda.is_available()):\n",
    "            # Transfer to GPU\n",
    "            local_batch, local_labels = local_batch.cuda(), local_labels.cuda()\n",
    "        outputTest = model(local_batch)\n",
    "        accuracyTEST.newEntry(outputTest.max(1)[1], local_labels)\n",
    "        lossTest = criterion(outputTest, local_labels)\n",
    "        lossValue += lossTest.item()*local_batch.size(0)\n",
    "print('Loss TEST is ', lossValue/test_input.size(0))\n",
    "\n",
    "print(\"\")\n",
    "print(\"The accuracy in TEST is: \")\n",
    "print(\"  1       2\")\n",
    "print(accuracyTEST.getStats())"
   ]
  },
  {
   "cell_type": "code",
   "execution_count": 32,
   "metadata": {},
   "outputs": [
    {
     "data": {
      "text/plain": [
       "[<matplotlib.lines.Line2D at 0x1d7b9ce3df0>]"
      ]
     },
     "execution_count": 32,
     "metadata": {},
     "output_type": "execute_result"
    },
    {
     "data": {
      "image/png": "[encoded data removed]",
      "text/plain": [
       "<Figure size 432x288 with 1 Axes>"
      ]
     },
     "metadata": {
      "needs_background": "light"
     },
     "output_type": "display_data"
    }
   ],
   "source": [
    "plt.figure()\n",
    "plt.plot(np.array(loss_test)/max(loss_test))\n",
    "plt.plot(np.array(loss_train)/max(loss_train))"
   ]
  },
  {
   "cell_type": "code",
   "execution_count": 33,
   "metadata": {},
   "outputs": [],
   "source": [
    "torch.save(model, '../Models/model_wet')"
   ]
  }
 ],
 "metadata": {
  "kernelspec": {
   "display_name": "Python 3 (ipykernel)",
   "language": "python",
   "name": "python3"
  },
  "language_info": {
   "codemirror_mode": {
    "name": "ipython",
    "version": 3
   },
   "file_extension": ".py",
   "mimetype": "text/x-python",
   "name": "python",
   "nbconvert_exporter": "python",
   "pygments_lexer": "ipython3",
   "version": "3.9.12"
  }
 },
 "nbformat": 4,
 "nbformat_minor": 2
}

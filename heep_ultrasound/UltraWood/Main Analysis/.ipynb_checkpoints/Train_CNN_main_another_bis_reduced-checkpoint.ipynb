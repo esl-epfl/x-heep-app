{
 "cells": [
  {
   "cell_type": "code",
   "execution_count": 1,
   "metadata": {},
   "outputs": [
    {
     "name": "stderr",
     "output_type": "stream",
     "text": [
      "C:\\Users\\masg\\Anaconda3\\envs\\hls4ml\\lib\\site-packages\\tqdm\\auto.py:22: TqdmWarning: IProgress not found. Please update jupyter and ipywidgets. See https://ipywidgets.readthedocs.io/en/stable/user_install.html\n",
      "  from .autonotebook import tqdm as notebook_tqdm\n"
     ]
    }
   ],
   "source": [
    "import torch\n",
    "import torch.utils.data\n",
    "import glob\n",
    "import random\n",
    "import numpy as np\n",
    "import pandas as pd\n",
    "from torch import nn, optim\n",
    "from torch.nn import functional as F\n",
    "import time\n",
    "from torch.nn.utils import weight_norm"
   ]
  },
  {
   "cell_type": "code",
   "execution_count": 2,
   "metadata": {},
   "outputs": [],
   "source": [
    "seed = 1995\n",
    "random.seed(seed)     # python random generator\n",
    "np.random.seed(seed)  # numpy random generator\n",
    "\n",
    "torch.manual_seed(seed)\n",
    "torch.cuda.manual_seed_all(seed)"
   ]
  },
  {
   "cell_type": "code",
   "execution_count": 3,
   "metadata": {},
   "outputs": [],
   "source": [
    "Fs = 100000"
   ]
  },
  {
   "cell_type": "code",
   "execution_count": 4,
   "metadata": {},
   "outputs": [],
   "source": [
    "train_data_torch = torch.load('../data/databases/train_data_torch_main_reduced.pt')\n",
    "train_targets_torch = torch.load('../data/databases/train_targets_torch_main_reduced.pt')\n",
    "\n",
    "test_data_torch = torch.load('../data/databases/valid_data_torch_main_reduced.pt')\n",
    "test_targets_torch = torch.load('../data/databases/valid_targets_torch_main_reduced.pt')"
   ]
  },
  {
   "cell_type": "code",
   "execution_count": 5,
   "metadata": {},
   "outputs": [
    {
     "data": {
      "text/plain": [
       "tensor(4201)"
      ]
     },
     "execution_count": 5,
     "metadata": {},
     "output_type": "execute_result"
    }
   ],
   "source": [
    "torch.sum(train_targets_torch==0)"
   ]
  },
  {
   "cell_type": "code",
   "execution_count": 6,
   "metadata": {},
   "outputs": [
    {
     "data": {
      "text/plain": [
       "tensor(3967)"
      ]
     },
     "execution_count": 6,
     "metadata": {},
     "output_type": "execute_result"
    }
   ],
   "source": [
    "torch.sum(train_targets_torch==1)"
   ]
  },
  {
   "cell_type": "code",
   "execution_count": 7,
   "metadata": {},
   "outputs": [
    {
     "data": {
      "text/plain": [
       "tensor(4767)"
      ]
     },
     "execution_count": 7,
     "metadata": {},
     "output_type": "execute_result"
    }
   ],
   "source": [
    "torch.sum(train_targets_torch==2)"
   ]
  },
  {
   "cell_type": "code",
   "execution_count": 8,
   "metadata": {},
   "outputs": [
    {
     "name": "stdout",
     "output_type": "stream",
     "text": [
      "Dim Train Data:  torch.Size([12935, 1, 35000])\n",
      "Dim Train Targets:  torch.Size([12935])\n",
      "Dim Test Data:  torch.Size([3241, 1, 35000])\n",
      "Dim Train Targets:  torch.Size([3241])\n"
     ]
    }
   ],
   "source": [
    "print('Dim Train Data: ', train_data_torch.shape)\n",
    "print('Dim Train Targets: ', train_targets_torch.shape)\n",
    "print('Dim Test Data: ', test_data_torch.shape)\n",
    "print('Dim Train Targets: ', test_targets_torch.shape)"
   ]
  },
  {
   "cell_type": "code",
   "execution_count": 9,
   "metadata": {},
   "outputs": [],
   "source": [
    "numChannels = 1\n",
    "numClasses = 3"
   ]
  },
  {
   "cell_type": "code",
   "execution_count": 10,
   "metadata": {},
   "outputs": [],
   "source": [
    "import matplotlib.pyplot as plt\n",
    "i = 100"
   ]
  },
  {
   "cell_type": "code",
   "execution_count": 11,
   "metadata": {},
   "outputs": [
    {
     "data": {
      "text/plain": [
       "[<matplotlib.lines.Line2D at 0x20833defc40>]"
      ]
     },
     "execution_count": 11,
     "metadata": {},
     "output_type": "execute_result"
    },
    {
     "data": {
      "image/png": "[encoded data removed]",
      "text/plain": [
       "<Figure size 640x480 with 1 Axes>"
      ]
     },
     "metadata": {},
     "output_type": "display_data"
    }
   ],
   "source": [
    "plt.plot(train_data_torch.narrow(0, i, 1).narrow(1, 0, 1).view(-1).numpy())"
   ]
  },
  {
   "cell_type": "markdown",
   "metadata": {},
   "source": [
    "# This is the formula for computing the size of the output of every layer\n",
    "\n",
    "$$L_{out} = \\frac{L_{in}- Kernel_{size}}{stride}+1$$"
   ]
  },
  {
   "cell_type": "markdown",
   "metadata": {},
   "source": [
    "# Here there's and example: \n",
    "$input size = 1 * 20'000 * 4 $\n",
    "\n",
    "after the first convolution:\n",
    "$output = \\frac{20000-5000}{5}+1 = 3001$\n",
    "and the channels go from the initial 4 to the specified 32\n",
    "\n",
    "after the second convolution:\n",
    "$output = \\frac{3001-2002}{1}+1 = 1000$\n",
    "and the channels go from 32 to 64\n",
    "\n",
    "after the last convolution:\n",
    "$output = \\frac{1000-1000}{1}+1 = 1$\n",
    "and the channels go from 64 to 5 (as the number of classes!!!)\n",
    "\n",
    "\n"
   ]
  },
  {
   "cell_type": "code",
   "execution_count": 12,
   "metadata": {},
   "outputs": [
    {
     "data": {
      "text/plain": [
       "15001.0"
      ]
     },
     "execution_count": 12,
     "metadata": {},
     "output_type": "execute_result"
    }
   ],
   "source": [
    "(35000-5000)/2+1"
   ]
  },
  {
   "cell_type": "code",
   "execution_count": 13,
   "metadata": {},
   "outputs": [
    {
     "data": {
      "text/plain": [
       "5001.5"
      ]
     },
     "execution_count": 13,
     "metadata": {},
     "output_type": "execute_result"
    }
   ],
   "source": [
    "(15001-5000)/2+1"
   ]
  },
  {
   "cell_type": "code",
   "execution_count": 14,
   "metadata": {},
   "outputs": [
    {
     "data": {
      "text/plain": [
       "251.5"
      ]
     },
     "execution_count": 14,
     "metadata": {},
     "output_type": "execute_result"
    }
   ],
   "source": [
    "(5001-4500)/2+1"
   ]
  },
  {
   "cell_type": "code",
   "execution_count": 15,
   "metadata": {},
   "outputs": [
    {
     "data": {
      "text/plain": [
       "Sequential(\n",
       "  (0): Conv1d(1, 32, kernel_size=(128,), stride=(32,))\n",
       "  (1): ReLU()\n",
       "  (2): AvgPool1d(kernel_size=(2,), stride=(2,), padding=(0,))\n",
       "  (3): Conv1d(32, 32, kernel_size=(64,), stride=(16,))\n",
       "  (4): ReLU()\n",
       "  (5): AvgPool1d(kernel_size=(2,), stride=(2,), padding=(0,))\n",
       "  (6): Flatten(start_dim=1, end_dim=-1)\n",
       "  (7): Linear(in_features=480, out_features=9, bias=True)\n",
       "  (8): ReLU()\n",
       "  (9): Linear(in_features=9, out_features=3, bias=True)\n",
       ")"
      ]
     },
     "execution_count": 15,
     "metadata": {},
     "output_type": "execute_result"
    }
   ],
   "source": [
    "KERNEL_SIZE = 128\n",
    "POOL_FACT = 2\n",
    "STRIDE_FACT = KERNEL_SIZE // 4\n",
    "CHANNEL_COUNT = 32\n",
    "use_avg_pool = True\n",
    "model = torch.nn.Sequential() \n",
    "output_dim = 35000\n",
    "model.append(torch.nn.Conv1d(in_channels = 1, out_channels = CHANNEL_COUNT, kernel_size = KERNEL_SIZE, stride=STRIDE_FACT)) #16x16896 - 512 + 1 \n",
    "output_dim = (output_dim - KERNEL_SIZE) // STRIDE_FACT + 1\n",
    "model.append(torch.nn.ReLU()) \n",
    "if use_avg_pool:\n",
    "    model.append(torch.nn.AvgPool1d(POOL_FACT))\n",
    "else:\n",
    "    model.append(torch.nn.MaxPool1d(POOL_FACT)) #16x8192\n",
    "output_dim /= POOL_FACT\n",
    "model.append(torch.nn.Conv1d(in_channels = CHANNEL_COUNT, out_channels=CHANNEL_COUNT, kernel_size=KERNEL_SIZE // 2, stride=STRIDE_FACT // 2)) #16x7681\n",
    "output_dim = (output_dim - KERNEL_SIZE // 2) // (STRIDE_FACT // 2)+ 1\n",
    "model.append(torch.nn.ReLU())\n",
    "if use_avg_pool:\n",
    "    model.append(torch.nn.AvgPool1d(POOL_FACT))\n",
    "else:\n",
    "    model.append(torch.nn.MaxPool1d(POOL_FACT)) #16x8192\n",
    "output_dim /= POOL_FACT\n",
    "model.append(torch.nn.Flatten())\n",
    "model.append(torch.nn.Linear(in_features = int(output_dim) * CHANNEL_COUNT, out_features = 9))\n",
    "model.append(torch.nn.ReLU())\n",
    "model.append(torch.nn.Linear(in_features = 9, out_features = 3))"
   ]
  },
  {
   "cell_type": "code",
   "execution_count": 16,
   "metadata": {},
   "outputs": [],
   "source": [
    "#model, criterion = fastCNN(), nn.CrossEntropyLoss()"
   ]
  },
  {
   "cell_type": "code",
   "execution_count": 17,
   "metadata": {},
   "outputs": [],
   "source": [
    "criterion = torch.nn.CrossEntropyLoss()"
   ]
  },
  {
   "cell_type": "code",
   "execution_count": 18,
   "metadata": {},
   "outputs": [],
   "source": [
    "def count_parameters(model): return sum(p.numel() for p in model.parameters() if p.requires_grad)"
   ]
  },
  {
   "cell_type": "code",
   "execution_count": 19,
   "metadata": {},
   "outputs": [
    {
     "data": {
      "text/plain": [
       "74055"
      ]
     },
     "execution_count": 19,
     "metadata": {},
     "output_type": "execute_result"
    }
   ],
   "source": [
    "count_parameters(model)"
   ]
  },
  {
   "cell_type": "code",
   "execution_count": 20,
   "metadata": {},
   "outputs": [],
   "source": [
    "def compute_nb_errors(model, testing_generator):\n",
    "    nb_errors=0\n",
    "    with torch.set_grad_enabled(False):\n",
    "        for local_batch, local_labels in testing_generator:\n",
    "            if (torch.cuda.is_available()):\n",
    "                # Transfer to GPU\n",
    "                local_batch, local_labels = local_batch.cuda(), local_labels.cuda()\n",
    "            outputTest = model(local_batch)\n",
    "            predicted_classes = outputTest.max(1)[1]\n",
    "            nb_errors += (predicted_classes != local_labels).long().sum()\n",
    "\n",
    "    return nb_errors"
   ]
  },
  {
   "cell_type": "code",
   "execution_count": 21,
   "metadata": {},
   "outputs": [],
   "source": [
    "if (torch.cuda.is_available()):\n",
    "    model = model.cuda()"
   ]
  },
  {
   "cell_type": "code",
   "execution_count": 22,
   "metadata": {},
   "outputs": [],
   "source": [
    "train_input = train_data_torch.view(train_data_torch.size(0), numChannels, -1).float()\n",
    "train_target = train_targets_torch.long().view(-1)\n",
    "test_input = test_data_torch.view(test_data_torch.size(0), numChannels, -1).float()\n",
    "test_target = test_targets_torch.long().view(-1)"
   ]
  },
  {
   "cell_type": "code",
   "execution_count": 23,
   "metadata": {},
   "outputs": [
    {
     "data": {
      "text/plain": [
       "torch.Size([12935, 1, 35000])"
      ]
     },
     "execution_count": 23,
     "metadata": {},
     "output_type": "execute_result"
    }
   ],
   "source": [
    "train_input.shape"
   ]
  },
  {
   "cell_type": "code",
   "execution_count": 24,
   "metadata": {},
   "outputs": [],
   "source": [
    "train_input = (train_input-torch.mean(train_input,2,keepdim=True))\n",
    "test_input = (test_input-torch.mean(test_input,2,keepdim=True))"
   ]
  },
  {
   "cell_type": "code",
   "execution_count": 25,
   "metadata": {},
   "outputs": [],
   "source": [
    "train_input = train_input/torch.max(train_input,2,keepdim=True)[0]\n",
    "test_input = test_input/torch.max(test_input,2,keepdim=True)[0]"
   ]
  },
  {
   "cell_type": "code",
   "execution_count": 26,
   "metadata": {},
   "outputs": [
    {
     "data": {
      "text/plain": [
       "[<matplotlib.lines.Line2D at 0x208356fcfd0>]"
      ]
     },
     "execution_count": 26,
     "metadata": {},
     "output_type": "execute_result"
    },
    {
     "data": {
      "image/png": "[encoded data removed]",
      "text/plain": [
       "<Figure size 640x480 with 1 Axes>"
      ]
     },
     "metadata": {},
     "output_type": "display_data"
    }
   ],
   "source": [
    "plt.plot(train_input.narrow(0, i, 1).narrow(1, 0, 1).view(-1).numpy())"
   ]
  },
  {
   "cell_type": "code",
   "execution_count": 27,
   "metadata": {},
   "outputs": [
    {
     "data": {
      "text/plain": [
       "[<matplotlib.lines.Line2D at 0x20838500370>]"
      ]
     },
     "execution_count": 27,
     "metadata": {},
     "output_type": "execute_result"
    },
    {
     "data": {
      "image/png": "[encoded data removed]",
      "text/plain": [
       "<Figure size 640x480 with 1 Axes>"
      ]
     },
     "metadata": {},
     "output_type": "display_data"
    }
   ],
   "source": [
    "plt.plot(test_input.narrow(0, i, 1).narrow(1, 0, 1).view(-1).numpy())"
   ]
  },
  {
   "cell_type": "code",
   "execution_count": 28,
   "metadata": {},
   "outputs": [
    {
     "data": {
      "text/plain": [
       "torch.Size([2, 1, 35000])"
      ]
     },
     "execution_count": 28,
     "metadata": {},
     "output_type": "execute_result"
    }
   ],
   "source": [
    "train_input.narrow(0, 0, 2).shape"
   ]
  },
  {
   "cell_type": "code",
   "execution_count": 29,
   "metadata": {},
   "outputs": [
    {
     "data": {
      "text/plain": [
       "torch.Size([2, 3])"
      ]
     },
     "execution_count": 29,
     "metadata": {},
     "output_type": "execute_result"
    }
   ],
   "source": [
    "out = model(train_input.narrow(0, 0, 2))\n",
    "out.shape"
   ]
  },
  {
   "cell_type": "code",
   "execution_count": 30,
   "metadata": {},
   "outputs": [],
   "source": [
    "lr = 3e-3"
   ]
  },
  {
   "cell_type": "code",
   "execution_count": 31,
   "metadata": {},
   "outputs": [],
   "source": [
    "optimizer = optim.Adam(model.parameters(), lr = lr)\n",
    "nb_epochs = 50\n",
    "scheduler = torch.optim.lr_scheduler.ReduceLROnPlateau(optimizer, 'min', verbose=True, factor=0.2, patience = 30)"
   ]
  },
  {
   "cell_type": "code",
   "execution_count": 32,
   "metadata": {},
   "outputs": [],
   "source": [
    "class errorsTable():\n",
    "    def __init__(self):\n",
    "        self.accuracyMatr = np.zeros((numClasses,numClasses))\n",
    "    def newEntry(self,predictions,groundTruths):\n",
    "        for pred,tru in zip(predictions,groundTruths):\n",
    "            #print(pred, tru)\n",
    "            self.accuracyMatr[pred,tru]+=1\n",
    "    def getStats(self):\n",
    "        #print(self.accuracyMatr)\n",
    "        numEntry = np.sum(self.accuracyMatr,0)\n",
    "        resultMatr = self.accuracyMatr/numEntry\n",
    "        return resultMatr"
   ]
  },
  {
   "cell_type": "code",
   "execution_count": 33,
   "metadata": {},
   "outputs": [],
   "source": [
    "np.set_printoptions(precision=2, suppress=True)"
   ]
  },
  {
   "cell_type": "code",
   "execution_count": 34,
   "metadata": {},
   "outputs": [],
   "source": [
    "batch_size_train = 32\n",
    "batch_size_test = 1000"
   ]
  },
  {
   "cell_type": "code",
   "execution_count": 35,
   "metadata": {},
   "outputs": [],
   "source": [
    "#torch.backends.cudnn.enabled = False"
   ]
  },
  {
   "cell_type": "code",
   "execution_count": 36,
   "metadata": {},
   "outputs": [],
   "source": [
    "training_set = torch.utils.data.TensorDataset(train_input, train_target)\n",
    "testing_set = torch.utils.data.TensorDataset(test_input, test_target)"
   ]
  },
  {
   "cell_type": "code",
   "execution_count": 37,
   "metadata": {},
   "outputs": [],
   "source": [
    "# Generators\n",
    "training_generator = torch.utils.data.DataLoader(training_set, batch_size=batch_size_train, num_workers=0,\n",
    "                                                shuffle=True, drop_last=True)\n",
    "testing_generator = torch.utils.data.DataLoader(testing_set, batch_size=batch_size_test, num_workers=0,\n",
    "                                                 shuffle=False, drop_last=False)"
   ]
  },
  {
   "cell_type": "code",
   "execution_count": 38,
   "metadata": {
    "scrolled": true
   },
   "outputs": [
    {
     "name": "stdout",
     "output_type": "stream",
     "text": [
      "Epoch:  0\n",
      "Loss is  0.40274593399720254\n",
      "Loss TEST is  0.12986616028914735\n",
      "\n",
      "The accuracy in TEST is: \n",
      "  1      2      3   \n",
      "[[1.   0.   0.  ]\n",
      " [0.   1.   0.04]\n",
      " [0.   0.   0.96]]\n",
      "The accuracy in TRAIN is: \n",
      "  1      2      3   \n",
      "[[0.79 0.06 0.02]\n",
      " [0.1  0.87 0.03]\n",
      " [0.11 0.07 0.95]]\n",
      "----------------------\n",
      "Hey! Ten epochs are passed! We are getting older\n",
      "Epoch:  1\n",
      "Loss is  0.09344053248157361\n",
      "Loss TEST is  0.07182909347133039\n",
      "\n",
      "The accuracy in TEST is: \n",
      "  1      2      3   \n",
      "[[1.   0.   0.03]\n",
      " [0.   1.   0.01]\n",
      " [0.   0.   0.96]]\n",
      "The accuracy in TRAIN is: \n",
      "  1      2      3   \n",
      "[[1.   0.   0.01]\n",
      " [0.   1.   0.03]\n",
      " [0.   0.   0.96]]\n",
      "----------------------\n",
      "Epoch:  2\n",
      "Loss is  0.07300903730794275\n",
      "Loss TEST is  0.06453251629603457\n",
      "\n",
      "The accuracy in TEST is: \n",
      "  1      2      3   \n",
      "[[1.   0.   0.03]\n",
      " [0.   1.   0.01]\n",
      " [0.   0.   0.96]]\n",
      "The accuracy in TRAIN is: \n",
      "  1      2      3   \n",
      "[[1.   0.   0.01]\n",
      " [0.   1.   0.03]\n",
      " [0.   0.   0.96]]\n",
      "----------------------\n",
      "Epoch:  3\n",
      "Loss is  0.07871490018820274\n",
      "Loss TEST is  0.03425328001616749\n",
      "\n",
      "The accuracy in TEST is: \n",
      "  1      2      3   \n",
      "[[1.   0.   0.  ]\n",
      " [0.   1.   0.01]\n",
      " [0.   0.   0.99]]\n",
      "The accuracy in TRAIN is: \n",
      "  1      2      3   \n",
      "[[0.99 0.   0.01]\n",
      " [0.   0.99 0.03]\n",
      " [0.01 0.   0.96]]\n",
      "----------------------\n",
      "Epoch:  4\n",
      "Loss is  0.024265802973340644\n",
      "Loss TEST is  0.019025001126614222\n",
      "\n",
      "The accuracy in TEST is: \n",
      "  1      2      3   \n",
      "[[1.   0.   0.  ]\n",
      " [0.   1.   0.01]\n",
      " [0.   0.   0.99]]\n",
      "The accuracy in TRAIN is: \n",
      "  1      2      3   \n",
      "[[1.   0.   0.  ]\n",
      " [0.   1.   0.01]\n",
      " [0.   0.   0.99]]\n",
      "----------------------\n",
      "Epoch:  5\n",
      "Loss is  0.018953182653404822\n",
      "Loss TEST is  0.011032464763161689\n",
      "\n",
      "The accuracy in TEST is: \n",
      "  1      2      3   \n",
      "[[1. 0. 0.]\n",
      " [0. 1. 0.]\n",
      " [0. 0. 1.]]\n",
      "The accuracy in TRAIN is: \n",
      "  1      2      3   \n",
      "[[1.   0.   0.  ]\n",
      " [0.   1.   0.01]\n",
      " [0.   0.   0.99]]\n",
      "----------------------\n",
      "Epoch:  6\n",
      "Loss is  0.018428774631629362\n",
      "Loss TEST is  0.041455369163965486\n",
      "\n",
      "The accuracy in TEST is: \n",
      "  1      2      3   \n",
      "[[1.   0.   0.  ]\n",
      " [0.   1.   0.02]\n",
      " [0.   0.   0.98]]\n",
      "The accuracy in TRAIN is: \n",
      "  1      2      3   \n",
      "[[1.   0.   0.  ]\n",
      " [0.   1.   0.  ]\n",
      " [0.   0.   0.99]]\n",
      "----------------------\n",
      "Epoch:  7\n",
      "Loss is  0.011157555308208809\n",
      "Loss TEST is  0.009549340127746896\n",
      "\n",
      "The accuracy in TEST is: \n",
      "  1      2      3   \n",
      "[[1. 0. 0.]\n",
      " [0. 1. 0.]\n",
      " [0. 0. 1.]]\n",
      "The accuracy in TRAIN is: \n",
      "  1      2      3   \n",
      "[[1. 0. 0.]\n",
      " [0. 1. 0.]\n",
      " [0. 0. 1.]]\n",
      "----------------------\n",
      "Epoch:  8\n",
      "Loss is  0.011707356540759098\n",
      "Loss TEST is  0.02350482289454923\n",
      "\n",
      "The accuracy in TEST is: \n",
      "  1      2      3   \n",
      "[[1.   0.   0.  ]\n",
      " [0.   1.   0.02]\n",
      " [0.   0.   0.98]]\n",
      "The accuracy in TRAIN is: \n",
      "  1      2      3   \n",
      "[[1. 0. 0.]\n",
      " [0. 1. 0.]\n",
      " [0. 0. 1.]]\n",
      "----------------------\n",
      "Epoch:  9\n",
      "Loss is  0.00867666241269707\n",
      "Loss TEST is  0.0038529867537673685\n",
      "\n",
      "The accuracy in TEST is: \n",
      "  1      2      3   \n",
      "[[1. 0. 0.]\n",
      " [0. 1. 0.]\n",
      " [0. 0. 1.]]\n",
      "The accuracy in TRAIN is: \n",
      "  1      2      3   \n",
      "[[1. 0. 0.]\n",
      " [0. 1. 0.]\n",
      " [0. 0. 1.]]\n",
      "----------------------\n",
      "Epoch:  10\n",
      "Loss is  0.0028633141308406582\n",
      "Loss TEST is  0.002971338151860149\n",
      "\n",
      "The accuracy in TEST is: \n",
      "  1      2      3   \n",
      "[[1. 0. 0.]\n",
      " [0. 1. 0.]\n",
      " [0. 0. 1.]]\n",
      "The accuracy in TRAIN is: \n",
      "  1      2      3   \n",
      "[[1. 0. 0.]\n",
      " [0. 1. 0.]\n",
      " [0. 0. 1.]]\n",
      "----------------------\n",
      "Hey! Ten epochs are passed! We are getting older\n",
      "Epoch:  11\n",
      "Loss is  0.006323535830465768\n",
      "Loss TEST is  0.00028718193364272163\n",
      "\n",
      "The accuracy in TEST is: \n",
      "  1      2      3   \n",
      "[[1. 0. 0.]\n",
      " [0. 1. 0.]\n",
      " [0. 0. 1.]]\n",
      "The accuracy in TRAIN is: \n",
      "  1      2      3   \n",
      "[[1. 0. 0.]\n",
      " [0. 1. 0.]\n",
      " [0. 0. 1.]]\n",
      "----------------------\n",
      "Epoch:  12\n",
      "Loss is  0.00073445662857902\n",
      "Loss TEST is  0.00013095904296994189\n",
      "\n",
      "The accuracy in TEST is: \n",
      "  1      2      3   \n",
      "[[1. 0. 0.]\n",
      " [0. 1. 0.]\n",
      " [0. 0. 1.]]\n",
      "The accuracy in TRAIN is: \n",
      "  1      2      3   \n",
      "[[1. 0. 0.]\n",
      " [0. 1. 0.]\n",
      " [0. 0. 1.]]\n",
      "----------------------\n",
      "Epoch:  13\n",
      "Loss is  3.5738718213447254e-05\n",
      "Loss TEST is  2.3221467213874506e-05\n",
      "\n",
      "The accuracy in TEST is: \n",
      "  1      2      3   \n",
      "[[1. 0. 0.]\n",
      " [0. 1. 0.]\n",
      " [0. 0. 1.]]\n",
      "The accuracy in TRAIN is: \n",
      "  1      2      3   \n",
      "[[1. 0. 0.]\n",
      " [0. 1. 0.]\n",
      " [0. 0. 1.]]\n",
      "----------------------\n",
      "Epoch:  14\n",
      "Loss is  1.4631727037254387e-05\n",
      "Loss TEST is  1.2710834449951911e-05\n",
      "\n",
      "The accuracy in TEST is: \n",
      "  1      2      3   \n",
      "[[1. 0. 0.]\n",
      " [0. 1. 0.]\n",
      " [0. 0. 1.]]\n",
      "The accuracy in TRAIN is: \n",
      "  1      2      3   \n",
      "[[1. 0. 0.]\n",
      " [0. 1. 0.]\n",
      " [0. 0. 1.]]\n",
      "----------------------\n",
      "Epoch:  15\n",
      "Loss is  9.467408095278247e-06\n",
      "Loss TEST is  1.0732656946152517e-05\n",
      "\n",
      "The accuracy in TEST is: \n",
      "  1      2      3   \n",
      "[[1. 0. 0.]\n",
      " [0. 1. 0.]\n",
      " [0. 0. 1.]]\n",
      "The accuracy in TRAIN is: \n",
      "  1      2      3   \n",
      "[[1. 0. 0.]\n",
      " [0. 1. 0.]\n",
      " [0. 0. 1.]]\n",
      "----------------------\n",
      "Epoch:  16\n",
      "Loss is  7.038712895248842e-06\n",
      "Loss TEST is  1.0223325534107373e-05\n",
      "\n",
      "The accuracy in TEST is: \n",
      "  1      2      3   \n",
      "[[1. 0. 0.]\n",
      " [0. 1. 0.]\n",
      " [0. 0. 1.]]\n",
      "The accuracy in TRAIN is: \n",
      "  1      2      3   \n",
      "[[1. 0. 0.]\n",
      " [0. 1. 0.]\n",
      " [0. 0. 1.]]\n",
      "----------------------\n",
      "Epoch:  17\n",
      "Loss is  5.583315912531669e-06\n",
      "Loss TEST is  8.445280360208759e-06\n",
      "\n",
      "The accuracy in TEST is: \n",
      "  1      2      3   \n",
      "[[1. 0. 0.]\n",
      " [0. 1. 0.]\n",
      " [0. 0. 1.]]\n",
      "The accuracy in TRAIN is: \n",
      "  1      2      3   \n",
      "[[1. 0. 0.]\n",
      " [0. 1. 0.]\n",
      " [0. 0. 1.]]\n",
      "----------------------\n",
      "Epoch:  18\n",
      "Loss is  4.456995796225884e-06\n",
      "Loss TEST is  7.377289959220783e-06\n",
      "\n",
      "The accuracy in TEST is: \n",
      "  1      2      3   \n",
      "[[1. 0. 0.]\n",
      " [0. 1. 0.]\n",
      " [0. 0. 1.]]\n",
      "The accuracy in TRAIN is: \n",
      "  1      2      3   \n",
      "[[1. 0. 0.]\n",
      " [0. 1. 0.]\n",
      " [0. 0. 1.]]\n",
      "----------------------\n",
      "Epoch:  19\n",
      "Loss is  3.864025343787982e-06\n",
      "Loss TEST is  6.654296203951356e-06\n",
      "\n",
      "The accuracy in TEST is: \n",
      "  1      2      3   \n",
      "[[1. 0. 0.]\n",
      " [0. 1. 0.]\n",
      " [0. 0. 1.]]\n",
      "The accuracy in TRAIN is: \n",
      "  1      2      3   \n",
      "[[1. 0. 0.]\n",
      " [0. 1. 0.]\n",
      " [0. 0. 1.]]\n",
      "----------------------\n",
      "Epoch:  20\n",
      "Loss is  3.1732806742161185e-06\n",
      "Loss TEST is  5.306494149599359e-06\n",
      "\n",
      "The accuracy in TEST is: \n",
      "  1      2      3   \n",
      "[[1. 0. 0.]\n",
      " [0. 1. 0.]\n",
      " [0. 0. 1.]]\n",
      "The accuracy in TRAIN is: \n",
      "  1      2      3   \n",
      "[[1. 0. 0.]\n",
      " [0. 1. 0.]\n",
      " [0. 0. 1.]]\n",
      "----------------------\n",
      "Hey! Ten epochs are passed! We are getting older\n",
      "Epoch:  21\n",
      "Loss is  2.690763244493634e-06\n",
      "Loss TEST is  3.418870413802539e-06\n",
      "\n",
      "The accuracy in TEST is: \n",
      "  1      2      3   \n",
      "[[1. 0. 0.]\n",
      " [0. 1. 0.]\n",
      " [0. 0. 1.]]\n",
      "The accuracy in TRAIN is: \n",
      "  1      2      3   \n",
      "[[1. 0. 0.]\n",
      " [0. 1. 0.]\n",
      " [0. 0. 1.]]\n",
      "----------------------\n",
      "Epoch:  22\n",
      "Loss is  2.3077711986328807e-06\n",
      "Loss TEST is  4.35557586290713e-06\n",
      "\n",
      "The accuracy in TEST is: \n",
      "  1      2      3   \n",
      "[[1. 0. 0.]\n",
      " [0. 1. 0.]\n",
      " [0. 0. 1.]]\n",
      "The accuracy in TRAIN is: \n",
      "  1      2      3   \n",
      "[[1. 0. 0.]\n",
      " [0. 1. 0.]\n",
      " [0. 0. 1.]]\n",
      "----------------------\n",
      "Epoch:  23\n",
      "Loss is  2.0496840932148624e-06\n",
      "Loss TEST is  2.9981037084952716e-06\n",
      "\n",
      "The accuracy in TEST is: \n",
      "  1      2      3   \n",
      "[[1. 0. 0.]\n",
      " [0. 1. 0.]\n",
      " [0. 0. 1.]]\n",
      "The accuracy in TRAIN is: \n",
      "  1      2      3   \n",
      "[[1. 0. 0.]\n",
      " [0. 1. 0.]\n",
      " [0. 0. 1.]]\n",
      "----------------------\n",
      "Epoch:  24\n",
      "Loss is  1.6822157296165552e-06\n",
      "Loss TEST is  2.6717390662276645e-06\n",
      "\n",
      "The accuracy in TEST is: \n",
      "  1      2      3   \n",
      "[[1. 0. 0.]\n",
      " [0. 1. 0.]\n",
      " [0. 0. 1.]]\n",
      "The accuracy in TRAIN is: \n",
      "  1      2      3   \n",
      "[[1. 0. 0.]\n",
      " [0. 1. 0.]\n",
      " [0. 0. 1.]]\n",
      "----------------------\n",
      "Epoch:  25\n",
      "Loss is  1.4528376879350425e-06\n",
      "Loss TEST is  2.267877961514403e-06\n",
      "\n",
      "The accuracy in TEST is: \n",
      "  1      2      3   \n",
      "[[1. 0. 0.]\n",
      " [0. 1. 0.]\n",
      " [0. 0. 1.]]\n",
      "The accuracy in TRAIN is: \n",
      "  1      2      3   \n",
      "[[1. 0. 0.]\n",
      " [0. 1. 0.]\n",
      " [0. 0. 1.]]\n",
      "----------------------\n",
      "Epoch:  26\n",
      "Loss is  1.192595875248872e-06\n",
      "Loss TEST is  1.6562399385397639e-06\n",
      "\n",
      "The accuracy in TEST is: \n",
      "  1      2      3   \n",
      "[[1. 0. 0.]\n",
      " [0. 1. 0.]\n",
      " [0. 0. 1.]]\n",
      "The accuracy in TRAIN is: \n",
      "  1      2      3   \n",
      "[[1. 0. 0.]\n",
      " [0. 1. 0.]\n",
      " [0. 0. 1.]]\n",
      "----------------------\n",
      "Epoch:  27\n",
      "Loss is  9.967349660013996e-07\n",
      "Loss TEST is  1.3992970067238822e-06\n",
      "\n",
      "The accuracy in TEST is: \n",
      "  1      2      3   \n",
      "[[1. 0. 0.]\n",
      " [0. 1. 0.]\n",
      " [0. 0. 1.]]\n",
      "The accuracy in TRAIN is: \n",
      "  1      2      3   \n",
      "[[1. 0. 0.]\n",
      " [0. 1. 0.]\n",
      " [0. 0. 1.]]\n",
      "----------------------\n",
      "Epoch:  28\n",
      "Loss is  7.523873210921066e-07\n",
      "Loss TEST is  1.95200901161385e-06\n",
      "\n",
      "The accuracy in TEST is: \n",
      "  1      2      3   \n",
      "[[1. 0. 0.]\n",
      " [0. 1. 0.]\n",
      " [0. 0. 1.]]\n",
      "The accuracy in TRAIN is: \n",
      "  1      2      3   \n",
      "[[1. 0. 0.]\n",
      " [0. 1. 0.]\n",
      " [0. 0. 1.]]\n",
      "----------------------\n",
      "Epoch:  29\n"
     ]
    },
    {
     "name": "stdout",
     "output_type": "stream",
     "text": [
      "Loss is  7.012815338008302e-07\n",
      "Loss TEST is  1.3414132685151115e-06\n",
      "\n",
      "The accuracy in TEST is: \n",
      "  1      2      3   \n",
      "[[1. 0. 0.]\n",
      " [0. 1. 0.]\n",
      " [0. 0. 1.]]\n",
      "The accuracy in TRAIN is: \n",
      "  1      2      3   \n",
      "[[1. 0. 0.]\n",
      " [0. 1. 0.]\n",
      " [0. 0. 1.]]\n",
      "----------------------\n",
      "Epoch:  30\n",
      "Loss is  5.343939490473827e-07\n",
      "Loss TEST is  1.5934240609699388e-06\n",
      "\n",
      "The accuracy in TEST is: \n",
      "  1      2      3   \n",
      "[[1. 0. 0.]\n",
      " [0. 1. 0.]\n",
      " [0. 0. 1.]]\n",
      "The accuracy in TRAIN is: \n",
      "  1      2      3   \n",
      "[[1. 0. 0.]\n",
      " [0. 1. 0.]\n",
      " [0. 0. 1.]]\n",
      "----------------------\n",
      "Hey! Ten epochs are passed! We are getting older\n",
      "Epoch:  31\n",
      "Loss is  4.410901391474715e-07\n",
      "Loss TEST is  8.353228640787138e-07\n",
      "\n",
      "The accuracy in TEST is: \n",
      "  1      2      3   \n",
      "[[1. 0. 0.]\n",
      " [0. 1. 0.]\n",
      " [0. 0. 1.]]\n",
      "The accuracy in TRAIN is: \n",
      "  1      2      3   \n",
      "[[1. 0. 0.]\n",
      " [0. 1. 0.]\n",
      " [0. 0. 1.]]\n",
      "----------------------\n",
      "Epoch:  32\n",
      "Loss is  3.796474218742154e-07\n",
      "Loss TEST is  7.955930490181229e-07\n",
      "\n",
      "The accuracy in TEST is: \n",
      "  1      2      3   \n",
      "[[1. 0. 0.]\n",
      " [0. 1. 0.]\n",
      " [0. 0. 1.]]\n",
      "The accuracy in TRAIN is: \n",
      "  1      2      3   \n",
      "[[1. 0. 0.]\n",
      " [0. 1. 0.]\n",
      " [0. 0. 1.]]\n",
      "----------------------\n",
      "Epoch:  33\n",
      "Loss is  2.931821330026805e-07\n",
      "Loss TEST is  4.869166013323519e-07\n",
      "\n",
      "The accuracy in TEST is: \n",
      "  1      2      3   \n",
      "[[1. 0. 0.]\n",
      " [0. 1. 0.]\n",
      " [0. 0. 1.]]\n",
      "The accuracy in TRAIN is: \n",
      "  1      2      3   \n",
      "[[1. 0. 0.]\n",
      " [0. 1. 0.]\n",
      " [0. 0. 1.]]\n",
      "----------------------\n",
      "Epoch:  34\n",
      "Loss is  2.4169894362566685e-07\n",
      "Loss TEST is  6.784912063597128e-07\n",
      "\n",
      "The accuracy in TEST is: \n",
      "  1      2      3   \n",
      "[[1. 0. 0.]\n",
      " [0. 1. 0.]\n",
      " [0. 0. 1.]]\n",
      "The accuracy in TRAIN is: \n",
      "  1      2      3   \n",
      "[[1. 0. 0.]\n",
      " [0. 1. 0.]\n",
      " [0. 0. 1.]]\n",
      "----------------------\n",
      "Epoch:  35\n",
      "Loss is  1.9095967421334152e-07\n",
      "Loss TEST is  3.7014481818782475e-07\n",
      "\n",
      "The accuracy in TEST is: \n",
      "  1      2      3   \n",
      "[[1. 0. 0.]\n",
      " [0. 1. 0.]\n",
      " [0. 0. 1.]]\n",
      "The accuracy in TRAIN is: \n",
      "  1      2      3   \n",
      "[[1. 0. 0.]\n",
      " [0. 1. 0.]\n",
      " [0. 0. 1.]]\n",
      "----------------------\n",
      "Epoch:  36\n",
      "Loss is  1.6879463255704456e-07\n",
      "Loss TEST is  4.111413267940403e-07\n",
      "\n",
      "The accuracy in TEST is: \n",
      "  1      2      3   \n",
      "[[1. 0. 0.]\n",
      " [0. 1. 0.]\n",
      " [0. 0. 1.]]\n",
      "The accuracy in TRAIN is: \n",
      "  1      2      3   \n",
      "[[1. 0. 0.]\n",
      " [0. 1. 0.]\n",
      " [0. 0. 1.]]\n",
      "----------------------\n",
      "Epoch:  37\n",
      "Loss is  1.222300831828706e-07\n",
      "Loss TEST is  3.854931282793062e-07\n",
      "\n",
      "The accuracy in TEST is: \n",
      "  1      2      3   \n",
      "[[1. 0. 0.]\n",
      " [0. 1. 0.]\n",
      " [0. 0. 1.]]\n",
      "The accuracy in TRAIN is: \n",
      "  1      2      3   \n",
      "[[1. 0. 0.]\n",
      " [0. 1. 0.]\n",
      " [0. 0. 1.]]\n",
      "----------------------\n",
      "Epoch:  38\n",
      "Loss is  1.1091202314385759e-07\n",
      "Loss TEST is  2.726956986657562e-07\n",
      "\n",
      "The accuracy in TEST is: \n",
      "  1      2      3   \n",
      "[[1. 0. 0.]\n",
      " [0. 1. 0.]\n",
      " [0. 0. 1.]]\n",
      "The accuracy in TRAIN is: \n",
      "  1      2      3   \n",
      "[[1. 0. 0.]\n",
      " [0. 1. 0.]\n",
      " [0. 0. 1.]]\n",
      "----------------------\n",
      "Epoch:  39\n",
      "Loss is  8.198458705317919e-08\n",
      "Loss TEST is  3.448618169744046e-07\n",
      "\n",
      "The accuracy in TEST is: \n",
      "  1      2      3   \n",
      "[[1. 0. 0.]\n",
      " [0. 1. 0.]\n",
      " [0. 0. 1.]]\n",
      "The accuracy in TRAIN is: \n",
      "  1      2      3   \n",
      "[[1. 0. 0.]\n",
      " [0. 1. 0.]\n",
      " [0. 0. 1.]]\n",
      "----------------------\n",
      "Epoch:  40\n",
      "Loss is  7.16905662756974e-08\n",
      "Loss TEST is  1.0552313762466475e-07\n",
      "\n",
      "The accuracy in TEST is: \n",
      "  1      2      3   \n",
      "[[1. 0. 0.]\n",
      " [0. 1. 0.]\n",
      " [0. 0. 1.]]\n",
      "The accuracy in TRAIN is: \n",
      "  1      2      3   \n",
      "[[1. 0. 0.]\n",
      " [0. 1. 0.]\n",
      " [0. 0. 1.]]\n",
      "----------------------\n",
      "Hey! Ten epochs are passed! We are getting older\n",
      "Epoch:  41\n",
      "Loss is  5.428190543466538e-08\n",
      "Loss TEST is  1.760538818945121e-07\n",
      "\n",
      "The accuracy in TEST is: \n",
      "  1      2      3   \n",
      "[[1. 0. 0.]\n",
      " [0. 1. 0.]\n",
      " [0. 0. 1.]]\n",
      "The accuracy in TRAIN is: \n",
      "  1      2      3   \n",
      "[[1. 0. 0.]\n",
      " [0. 1. 0.]\n",
      " [0. 0. 1.]]\n",
      "----------------------\n",
      "Epoch:  42\n",
      "Loss is  4.703815811576422e-08\n",
      "Loss TEST is  2.5838531739865323e-07\n",
      "\n",
      "The accuracy in TEST is: \n",
      "  1      2      3   \n",
      "[[1. 0. 0.]\n",
      " [0. 1. 0.]\n",
      " [0. 0. 1.]]\n",
      "The accuracy in TRAIN is: \n",
      "  1      2      3   \n",
      "[[1. 0. 0.]\n",
      " [0. 1. 0.]\n",
      " [0. 0. 1.]]\n",
      "----------------------\n",
      "Epoch:  43\n",
      "Loss is  4.138872343427668e-08\n",
      "Loss TEST is  6.083545787611464e-08\n",
      "\n",
      "The accuracy in TEST is: \n",
      "  1      2      3   \n",
      "[[1. 0. 0.]\n",
      " [0. 1. 0.]\n",
      " [0. 0. 1.]]\n",
      "The accuracy in TRAIN is: \n",
      "  1      2      3   \n",
      "[[1. 0. 0.]\n",
      " [0. 1. 0.]\n",
      " [0. 0. 1.]]\n",
      "----------------------\n",
      "Epoch:  44\n",
      "Loss is  2.8173235115879132e-08\n",
      "Loss TEST is  7.201598730101918e-08\n",
      "\n",
      "The accuracy in TEST is: \n",
      "  1      2      3   \n",
      "[[1. 0. 0.]\n",
      " [0. 1. 0.]\n",
      " [0. 0. 1.]]\n",
      "The accuracy in TRAIN is: \n",
      "  1      2      3   \n",
      "[[1. 0. 0.]\n",
      " [0. 1. 0.]\n",
      " [0. 0. 1.]]\n",
      "----------------------\n",
      "Epoch:  45\n",
      "Loss is  2.299388121511807e-08\n",
      "Loss TEST is  3.8399533245618365e-08\n",
      "\n",
      "The accuracy in TEST is: \n",
      "  1      2      3   \n",
      "[[1. 0. 0.]\n",
      " [0. 1. 0.]\n",
      " [0. 0. 1.]]\n",
      "The accuracy in TRAIN is: \n",
      "  1      2      3   \n",
      "[[1. 0. 0.]\n",
      " [0. 1. 0.]\n",
      " [0. 0. 1.]]\n",
      "----------------------\n",
      "Epoch:  46\n",
      "Loss is  1.9906527207435052e-08\n",
      "Loss TEST is  5.9584483510090505e-08\n",
      "\n",
      "The accuracy in TEST is: \n",
      "  1      2      3   \n",
      "[[1. 0. 0.]\n",
      " [0. 1. 0.]\n",
      " [0. 0. 1.]]\n",
      "The accuracy in TRAIN is: \n",
      "  1      2      3   \n",
      "[[1. 0. 0.]\n",
      " [0. 1. 0.]\n",
      " [0. 0. 1.]]\n",
      "----------------------\n",
      "Epoch:  47\n",
      "Loss is  1.5206398109932285e-08\n",
      "Loss TEST is  3.210993216650344e-08\n",
      "\n",
      "The accuracy in TEST is: \n",
      "  1      2      3   \n",
      "[[1. 0. 0.]\n",
      " [0. 1. 0.]\n",
      " [0. 0. 1.]]\n",
      "The accuracy in TRAIN is: \n",
      "  1      2      3   \n",
      "[[1. 0. 0.]\n",
      " [0. 1. 0.]\n",
      " [0. 0. 1.]]\n",
      "----------------------\n",
      "Epoch:  48\n",
      "Loss is  1.250611552544692e-08\n",
      "Loss TEST is  2.2289471989402338e-08\n",
      "\n",
      "The accuracy in TEST is: \n",
      "  1      2      3   \n",
      "[[1. 0. 0.]\n",
      " [0. 1. 0.]\n",
      " [0. 0. 1.]]\n",
      "The accuracy in TRAIN is: \n",
      "  1      2      3   \n",
      "[[1. 0. 0.]\n",
      " [0. 1. 0.]\n",
      " [0. 0. 1.]]\n",
      "----------------------\n",
      "Epoch:  49\n",
      "Loss is  1.0238981794395427e-08\n",
      "Loss TEST is  1.842747272227235e-08\n",
      "\n",
      "The accuracy in TEST is: \n",
      "  1      2      3   \n",
      "[[1. 0. 0.]\n",
      " [0. 1. 0.]\n",
      " [0. 0. 1.]]\n",
      "The accuracy in TRAIN is: \n",
      "  1      2      3   \n",
      "[[1. 0. 0.]\n",
      " [0. 1. 0.]\n",
      " [0. 0. 1.]]\n",
      "----------------------\n",
      "Final Test error Net 0.00% 0/3241\n",
      "731.5579180717468\n"
     ]
    }
   ],
   "source": [
    "loss_train = []\n",
    "loss_test = []\n",
    "\n",
    "t = time.time()\n",
    "for k in range (nb_epochs):\n",
    "    \n",
    "    # Create a new error table\n",
    "    accuracyTRAIN = errorsTable()\n",
    "    accuracyTEST = errorsTable()\n",
    "    print('Epoch: ', k)\n",
    "    model.train()\n",
    "\n",
    "    lossValue = 0\n",
    "    for local_batch, local_labels in training_generator:\n",
    "        if (torch.cuda.is_available()):\n",
    "            # Transfer to GPU\n",
    "            local_batch, local_labels = local_batch.cuda(), local_labels.cuda()       \n",
    "        model.zero_grad()\n",
    "        output = model(local_batch)\n",
    "        accuracyTRAIN.newEntry(output.max(1)[1], local_labels)\n",
    "        loss = criterion(output, local_labels)\n",
    "        lossValue += loss.item()*local_batch.size(0)\n",
    "        loss.backward()\n",
    "        optimizer.step()\n",
    "    scheduler.step(lossValue/train_input.size(0))\n",
    "    print('Loss is ', lossValue/train_input.size(0))\n",
    "    loss_train.append(lossValue/train_input.size(0))    \n",
    "    ################################################################    \n",
    "    model.eval()\n",
    "    lossValue = 0 \n",
    "    with torch.set_grad_enabled(False):\n",
    "        for local_batch, local_labels in testing_generator:\n",
    "            if (torch.cuda.is_available()):\n",
    "                # Transfer to GPU\n",
    "                local_batch, local_labels = local_batch.cuda(), local_labels.cuda()\n",
    "            outputTest = model(local_batch)\n",
    "            accuracyTEST.newEntry(outputTest.max(1)[1], local_labels)\n",
    "            lossTest = criterion(outputTest, local_labels)\n",
    "            lossValue += lossTest.item()*local_batch.size(0)\n",
    "    print('Loss TEST is ', lossValue/test_input.size(0))\n",
    "    loss_test.append(lossValue/test_input.size(0))\n",
    "    print(\"\")\n",
    "    print(\"The accuracy in TEST is: \")\n",
    "    print(\"  1      2      3   \")\n",
    "    print(accuracyTEST.getStats())\n",
    "    print(\"The accuracy in TRAIN is: \")\n",
    "    print(\"  1      2      3   \")\n",
    "    print(accuracyTRAIN.getStats())\n",
    "    print(\"----------------------\")\n",
    "    if k%10 == 0:\n",
    "        #nb_test_errors = compute_nb_errors(model, test_input, test_target, batch_size_test)\n",
    "\n",
    "        #print(k, ': Test accuracy Net {:0.2f}%% {:d}/{:d}'.format(100-(100 * nb_test_errors) / test_input.size(0),\n",
    "                                                     #nb_test_errors, test_input.size(0)))\n",
    "        \n",
    "\n",
    "        #nb_train_errors = compute_nb_errors(model, train_input, train_target, batch_size_train)\n",
    "\n",
    "        #print(k, ': Train accuracy Net {:0.2f}%% {:d}/{:d}'.format(100-(100 * nb_train_errors) / train_input.size(0),\n",
    "                                                          #nb_train_errors, train_input.size(0)))\n",
    "        print(\"Hey! Ten epochs are passed! We are getting older\")\n",
    "        \n",
    "        \n",
    "\n",
    "\n",
    "nb_test_errors = compute_nb_errors(model, testing_generator)  \n",
    "print('Final Test error Net {:0.2f}% {:d}/{:d}'.format((100 * nb_test_errors) / test_input.size(0),\n",
    "                                                  nb_test_errors, test_input.size(0)))\n",
    "\n",
    "elapsed = time.time() - t\n",
    "print(elapsed)"
   ]
  },
  {
   "cell_type": "code",
   "execution_count": 39,
   "metadata": {},
   "outputs": [
    {
     "name": "stdout",
     "output_type": "stream",
     "text": [
      "Loss TEST is  1.842747272227235e-08\n",
      "\n",
      "The accuracy in TEST is: \n",
      "  1      2      3   \n",
      "[[1. 0. 0.]\n",
      " [0. 1. 0.]\n",
      " [0. 0. 1.]]\n"
     ]
    }
   ],
   "source": [
    "accuracyTEST = errorsTable()\n",
    "\n",
    "model.eval()\n",
    "lossValue = 0 \n",
    "with torch.set_grad_enabled(False):\n",
    "    for local_batch, local_labels in testing_generator:\n",
    "        if (torch.cuda.is_available()):\n",
    "            # Transfer to GPU\n",
    "            local_batch, local_labels = local_batch.cuda(), local_labels.cuda()\n",
    "        outputTest = model(local_batch)\n",
    "        accuracyTEST.newEntry(outputTest.max(1)[1], local_labels)\n",
    "        lossTest = criterion(outputTest, local_labels)\n",
    "        lossValue += lossTest.item()*local_batch.size(0)\n",
    "print('Loss TEST is ', lossValue/test_input.size(0))\n",
    "\n",
    "print(\"\")\n",
    "print(\"The accuracy in TEST is: \")\n",
    "print(\"  1      2      3   \")\n",
    "print(accuracyTEST.getStats())"
   ]
  },
  {
   "cell_type": "code",
   "execution_count": 40,
   "metadata": {},
   "outputs": [
    {
     "data": {
      "text/plain": [
       "[<matplotlib.lines.Line2D at 0x2083574ab60>]"
      ]
     },
     "execution_count": 40,
     "metadata": {},
     "output_type": "execute_result"
    },
    {
     "data": {
      "image/png": "[encoded data removed]",
      "text/plain": [
       "<Figure size 640x480 with 1 Axes>"
      ]
     },
     "metadata": {},
     "output_type": "display_data"
    }
   ],
   "source": [
    "plt.figure()\n",
    "plt.plot(np.array(loss_test)/max(loss_test))\n",
    "plt.plot(np.array(loss_train)/max(loss_train))"
   ]
  },
  {
   "cell_type": "code",
   "execution_count": 41,
   "metadata": {},
   "outputs": [],
   "source": [
    "torch.save(model, '../Models/model_main_another_bis_reduced')"
   ]
  }
 ],
 "metadata": {
  "kernelspec": {
   "display_name": "Python 3 (ipykernel)",
   "language": "python",
   "name": "python3"
  },
  "language_info": {
   "codemirror_mode": {
    "name": "ipython",
    "version": 3
   },
   "file_extension": ".py",
   "mimetype": "text/x-python",
   "name": "python",
   "nbconvert_exporter": "python",
   "pygments_lexer": "ipython3",
   "version": "3.10.8"
  },
  "vscode": {
   "interpreter": {
    "hash": "e7370f93d1d0cde622a1f8e1c04877d8463912d04d973331ad4851f04de6915a"
   }
  }
 },
 "nbformat": 4,
 "nbformat_minor": 2
}

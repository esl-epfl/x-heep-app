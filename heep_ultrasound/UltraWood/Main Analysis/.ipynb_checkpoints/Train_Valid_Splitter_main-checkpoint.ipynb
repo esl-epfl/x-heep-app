{
 "cells": [
  {
   "cell_type": "code",
   "execution_count": 1,
   "id": "52af0f59",
   "metadata": {},
   "outputs": [],
   "source": [
    "import torch\n",
    "import random\n",
    "import glob"
   ]
  },
  {
   "cell_type": "code",
   "execution_count": 2,
   "id": "06ac4f29",
   "metadata": {},
   "outputs": [],
   "source": [
    "seed = 1995\n",
    "random.seed(seed)     # python random generator\n",
    "\n",
    "torch.manual_seed(seed)\n",
    "torch.cuda.manual_seed_all(seed)"
   ]
  },
  {
   "cell_type": "code",
   "execution_count": 3,
   "id": "3ae7d236",
   "metadata": {},
   "outputs": [
    {
     "data": {
      "text/plain": [
       "['../data/torch main\\\\demi',\n",
       " '../data/torch main\\\\demi_20_dec',\n",
       " '../data/torch main\\\\dry',\n",
       " '../data/torch main\\\\wet',\n",
       " '../data/torch main\\\\wet_20_dec']"
      ]
     },
     "execution_count": 3,
     "metadata": {},
     "output_type": "execute_result"
    }
   ],
   "source": [
    "path = '../data/torch main/'\n",
    "allFiles = glob.glob(path + \"/*\")\n",
    "allFiles"
   ]
  },
  {
   "cell_type": "code",
   "execution_count": 4,
   "id": "218c755d",
   "metadata": {},
   "outputs": [
    {
     "name": "stdout",
     "output_type": "stream",
     "text": [
      "Working on:  demi\n",
      "Working on:  demi_20_dec\n",
      "Working on:  dry\n",
      "Working on:  wet\n",
      "Working on:  wet_20_dec\n"
     ]
    }
   ],
   "source": [
    "all_data = []\n",
    "targets = []\n",
    "for file in allFiles:\n",
    "    file_name = file.split('\\\\')[-1]\n",
    "    print('Working on: ', file_name)\n",
    "    \n",
    "    if \"dry\" in file_name:\n",
    "        target = 0\n",
    "    elif \"demi\" in file_name or \"semi\" in file_name:\n",
    "        target = 1\n",
    "    elif \"wet\" in file_name:\n",
    "        target = 2\n",
    "    targets.append(target)\n",
    "    all_data.append(torch.load(file))"
   ]
  },
  {
   "cell_type": "code",
   "execution_count": 5,
   "id": "93937a15",
   "metadata": {},
   "outputs": [
    {
     "data": {
      "text/plain": [
       "[1, 1, 0, 2, 2]"
      ]
     },
     "execution_count": 5,
     "metadata": {},
     "output_type": "execute_result"
    }
   ],
   "source": [
    "targets"
   ]
  },
  {
   "cell_type": "code",
   "execution_count": 6,
   "id": "64b2c888",
   "metadata": {},
   "outputs": [],
   "source": [
    "train_data = []\n",
    "train_targets = []\n",
    "test_data = []\n",
    "test_targets = []"
   ]
  },
  {
   "cell_type": "code",
   "execution_count": 7,
   "id": "a7d5042f",
   "metadata": {},
   "outputs": [
    {
     "name": "stdout",
     "output_type": "stream",
     "text": [
      "torch.Size([2400, 1, 35000])\n",
      "torch.Size([523, 1, 35000])\n",
      "torch.Size([2382, 1, 35000])\n",
      "torch.Size([2600, 1, 35000])\n",
      "torch.Size([377, 1, 35000])\n"
     ]
    }
   ],
   "source": [
    "i = 0\n",
    "for data in all_data:\n",
    "    print(data.shape)\n",
    "    #shuffledIndexes = torch.randperm(data.size(0))\n",
    "    #data = data[shuffledIndexes]\n",
    "    dataTrain = data.narrow(0, 0, int(data.size(0) * 0.8))\n",
    "    labelTrain = torch.ones(int(data.size(0) * 0.8))*targets[i]\n",
    "    dataTest = data.narrow(0, int(data.size(0) * 0.8), data.size(0)-int(data.size(0) * 0.8))\n",
    "    labelTest = torch.ones(data.size(0)-int(data.size(0) * 0.8))*targets[i]\n",
    "    i += 1\n",
    "    train_data.append(dataTrain)\n",
    "    train_targets.append(labelTrain)\n",
    "    test_data.append(dataTest)\n",
    "    test_targets.append(labelTest)"
   ]
  },
  {
   "cell_type": "code",
   "execution_count": 8,
   "id": "33661885",
   "metadata": {},
   "outputs": [
    {
     "data": {
      "text/plain": [
       "torch.Size([6624, 1, 35000])"
      ]
     },
     "execution_count": 8,
     "metadata": {},
     "output_type": "execute_result"
    }
   ],
   "source": [
    "train_data_torch = torch.cat(train_data, 0)\n",
    "train_data_torch.shape"
   ]
  },
  {
   "cell_type": "code",
   "execution_count": 9,
   "id": "212fd01a",
   "metadata": {},
   "outputs": [
    {
     "data": {
      "text/plain": [
       "torch.Size([6624])"
      ]
     },
     "execution_count": 9,
     "metadata": {},
     "output_type": "execute_result"
    }
   ],
   "source": [
    "train_targets_torch = torch.cat(train_targets, 0)\n",
    "train_targets_torch.shape"
   ]
  },
  {
   "cell_type": "code",
   "execution_count": 10,
   "id": "bb4b4079",
   "metadata": {},
   "outputs": [
    {
     "data": {
      "text/plain": [
       "torch.Size([1658, 1, 35000])"
      ]
     },
     "execution_count": 10,
     "metadata": {},
     "output_type": "execute_result"
    }
   ],
   "source": [
    "test_data_torch = torch.cat(test_data, 0)\n",
    "test_data_torch.shape"
   ]
  },
  {
   "cell_type": "code",
   "execution_count": 11,
   "id": "2ccb2a5d",
   "metadata": {},
   "outputs": [
    {
     "data": {
      "text/plain": [
       "torch.Size([1658])"
      ]
     },
     "execution_count": 11,
     "metadata": {},
     "output_type": "execute_result"
    }
   ],
   "source": [
    "test_targets_torch = torch.cat(test_targets, 0)\n",
    "test_targets_torch.shape"
   ]
  },
  {
   "cell_type": "code",
   "execution_count": 12,
   "id": "a43dd86f",
   "metadata": {},
   "outputs": [],
   "source": [
    "torch.save(train_data_torch, '../data/databases/train_data_torch_main.pt')\n",
    "torch.save(train_targets_torch, '../data/databases/train_targets_torch_main.pt')\n",
    "torch.save(test_data_torch, '../data/databases/valid_data_torch_main.pt')\n",
    "torch.save(test_targets_torch, '../data/databases/valid_targets_torch_main.pt')"
   ]
  }
 ],
 "metadata": {
  "kernelspec": {
   "display_name": "Python 3 (ipykernel)",
   "language": "python",
   "name": "python3"
  },
  "language_info": {
   "codemirror_mode": {
    "name": "ipython",
    "version": 3
   },
   "file_extension": ".py",
   "mimetype": "text/x-python",
   "name": "python",
   "nbconvert_exporter": "python",
   "pygments_lexer": "ipython3",
   "version": "3.8.15"
  }
 },
 "nbformat": 4,
 "nbformat_minor": 5
}

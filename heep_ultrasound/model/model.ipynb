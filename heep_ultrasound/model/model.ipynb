{
 "cells": [
  {
   "cell_type": "code",
   "execution_count": 1,
   "metadata": {},
   "outputs": [
    {
     "name": "stderr",
     "output_type": "stream",
     "text": [
      "/home/saverio/.local/lib/python3.9/site-packages/tqdm/auto.py:22: TqdmWarning: IProgress not found. Please update jupyter and ipywidgets. See https://ipywidgets.readthedocs.io/en/stable/user_install.html\n",
      "  from .autonotebook import tqdm as notebook_tqdm\n"
     ]
    }
   ],
   "source": [
    "import torch\n",
    "import numpy as np\n",
    "import torch.utils\n",
    "from sklearn import preprocessing\n",
    "from sklearn.metrics import confusion_matrix\n",
    "from sklearn.metrics import accuracy_score\n",
    "from sklearn.model_selection import train_test_split\n",
    "import matplotlib.pyplot as plt"
   ]
  },
  {
   "cell_type": "markdown",
   "metadata": {},
   "source": [
    "# Settings"
   ]
  },
  {
   "cell_type": "code",
   "execution_count": 2,
   "metadata": {},
   "outputs": [],
   "source": [
    "SAMPLING_FREQUENCY = 100000 #Hz\n",
    "WINDOW_SIZE = 35000\n",
    "\n",
    "TARGETS = 3"
   ]
  },
  {
   "cell_type": "code",
   "execution_count": null,
   "metadata": {},
   "outputs": [],
   "source": [
    "# This cell tries to import the whole dataset... \n",
    "x_windows = []\n",
    "y_windows = []\n",
    "\n",
    "# Extracting Y labels\n",
    "with open(\"../data/dataset_y\", \"r\") as y:\n",
    "    y_line = y.readlines()\n",
    "    y_windows = [int(i.strip()) for i in y_line]\n",
    "    print(\"First Class:\", y_windows.count(1), \"samples\")\n",
    "    print(\"Second Class:\", y_windows.count(2), \"samples\")\n",
    "    print(\"Third Class:\", y_windows.count(3), \"samples\")\n",
    "\n",
    "with open(\"../data/dataset_X\", \"r\") as X:\n",
    "    for k, line in enumerate(X):\n",
    "        x_windows.append([int(i.strip()) for i in line.split(\",\")])\n",
    "        print(k)\n",
    "\n"
   ]
  },
  {
   "cell_type": "code",
   "execution_count": 3,
   "metadata": {},
   "outputs": [
    {
     "name": "stdout",
     "output_type": "stream",
     "text": [
      "Target: 1\n",
      "Target: 2\n",
      "Target: 3\n",
      "3000\n",
      "3000\n"
     ]
    }
   ],
   "source": [
    "# This cell tries to import only a subset of dataset\n",
    "x_windows = []\n",
    "y_windows = []\n",
    "\n",
    "count = 1000\n",
    "\n",
    "for target in range(1, 4):\n",
    "    print(\"Target:\", target)\n",
    "    with open(f\"../data/data_{target}\", \"r\") as file:\n",
    "        for i in range(count):\n",
    "            line = file.readline()\n",
    "            x_windows.append([int(j.strip()) for j in line.split(\",\")])\n",
    "            y_windows.append(target - 1)\n",
    "\n",
    "print(len(x_windows))\n",
    "print(len(y_windows))"
   ]
  },
  {
   "cell_type": "code",
   "execution_count": 4,
   "metadata": {},
   "outputs": [
    {
     "name": "stdout",
     "output_type": "stream",
     "text": [
      "x_windows shape:  (3000, 35000)\n",
      "y_windows shape:  (3000,)\n"
     ]
    }
   ],
   "source": [
    "x_windows = np.asarray(x_windows)\n",
    "y_windows = np.asarray(y_windows)\n",
    "print(\"x_windows shape: \", x_windows.shape) # Each window of 16,896 samples can be used to create a spectrogram \n",
    "print(\"y_windows shape: \", y_windows.shape) # Corresponding label for each window"
   ]
  },
  {
   "cell_type": "code",
   "execution_count": 5,
   "metadata": {},
   "outputs": [],
   "source": [
    "def to_categorical(x, n_classes):\n",
    "    return np.eye(n_classes, dtype='uint8')[x]"
   ]
  },
  {
   "cell_type": "code",
   "execution_count": 6,
   "metadata": {},
   "outputs": [
    {
     "name": "stdout",
     "output_type": "stream",
     "text": [
      "The shape of the one-hot encoded labels np array is:  (3000, 3)\n"
     ]
    }
   ],
   "source": [
    "y_features_hot = to_categorical(y_windows, n_classes=TARGETS)\n",
    "\n",
    "print('The shape of the one-hot encoded labels np array is: ' , y_features_hot.shape)"
   ]
  },
  {
   "cell_type": "code",
   "execution_count": 7,
   "metadata": {},
   "outputs": [
    {
     "name": "stdout",
     "output_type": "stream",
     "text": [
      "Training samples: (1710, 35000)\n",
      "Validation samples: (570, 35000)\n",
      "Test samples: (720, 35000)\n"
     ]
    }
   ],
   "source": [
    "#x_train, x_test, y_train, y_test = torch.utils.data.random_split(full_dataset, [train_size, test_size])\n",
    "x_train, x_test, y_train, y_test = train_test_split(x_windows,\n",
    "                                                    y_features_hot,\n",
    "                                                    test_size=0.24,\n",
    "                                                    random_state=1)\n",
    "x_train, x_val, y_train, y_val = train_test_split(x_train,\n",
    "                                                  y_train,\n",
    "                                                  test_size=0.25,\n",
    "                                                  random_state=1)\n",
    "\n",
    "print('Training samples:', x_train.shape)\n",
    "print('Validation samples:', x_val.shape)\n",
    "print('Test samples:', x_test.shape)"
   ]
  },
  {
   "cell_type": "code",
   "execution_count": 8,
   "metadata": {},
   "outputs": [],
   "source": [
    "def count_parameters(model): return sum(p.numel() for p in model.parameters() if p.requires_grad)"
   ]
  },
  {
   "cell_type": "code",
   "execution_count": 18,
   "metadata": {},
   "outputs": [
    {
     "name": "stdout",
     "output_type": "stream",
     "text": [
      "541991\n"
     ]
    }
   ],
   "source": [
    "KERNEL_SIZE = 64\n",
    "POOL_FACT = 2\n",
    "STRIDE_FACT = KERNEL_SIZE // 4\n",
    "CHANNEL_COUNT = 16\n",
    "use_avg_pool = True\n",
    "model = torch.nn.Sequential() \n",
    "output_dim = 35000\n",
    "model.append(torch.nn.Conv1d(in_channels = 1, out_channels = CHANNEL_COUNT, kernel_size = KERNEL_SIZE, stride=STRIDE_FACT)) #16x16896 - 512 + 1 \n",
    "output_dim = (output_dim - KERNEL_SIZE) // STRIDE_FACT + 1\n",
    "model.append(torch.nn.ReLU()) \n",
    "if use_avg_pool:\n",
    "    model.append(torch.nn.AvgPool1d(POOL_FACT))\n",
    "else:\n",
    "    model.append(torch.nn.MaxPool1d(POOL_FACT)) #16x8192\n",
    "output_dim /= POOL_FACT\n",
    "model.append(torch.nn.Conv1d(in_channels = CHANNEL_COUNT, out_channels=CHANNEL_COUNT, kernel_size=KERNEL_SIZE // 2, stride=STRIDE_FACT // 2)) #16x7681\n",
    "output_dim = (output_dim - KERNEL_SIZE // 2) // (STRIDE_FACT // 2)+ 1\n",
    "model.append(torch.nn.ReLU())\n",
    "if use_avg_pool:\n",
    "    model.append(torch.nn.AvgPool1d(POOL_FACT))\n",
    "else:\n",
    "    model.append(torch.nn.MaxPool1d(POOL_FACT)) #16x8192\n",
    "output_dim /= POOL_FACT\n",
    "model.append(torch.nn.Flatten())\n",
    "model.append(torch.nn.Linear(in_features = int(output_dim) * CHANNEL_COUNT, out_features = 9))\n",
    "model.append(torch.nn.ReLU())\n",
    "model.append(torch.nn.Linear(in_features = 9, out_features = 3))\n",
    "#model.append(torch.nn.Softmax(-1))\n",
    "\n",
    "# Print model summary\n",
    "#model.summary()\n",
    "print(count_parameters(model))\n",
    "\n",
    "opt = torch.optim.Adam(params=model.parameters(), lr=0.01)\n",
    "criterion = torch.nn.CrossEntropyLoss()"
   ]
  },
  {
   "cell_type": "code",
   "execution_count": 14,
   "metadata": {},
   "outputs": [
    {
     "name": "stdout",
     "output_type": "stream",
     "text": [
      "(1710, 1, 35000)\n",
      "(570, 1, 35000)\n",
      "(720, 1, 35000)\n"
     ]
    }
   ],
   "source": [
    "x_train_r = x_train.reshape(x_train.shape[0], 1, -1)\n",
    "print(x_train_r.shape)\n",
    "x_val_r = x_val.reshape(x_val.shape[0], 1, -1)\n",
    "print(x_val_r.shape)\n",
    "x_test_r = x_test.reshape(x_test.shape[0], 1, -1)\n",
    "print(x_test_r.shape)"
   ]
  },
  {
   "cell_type": "code",
   "execution_count": 11,
   "metadata": {},
   "outputs": [],
   "source": [
    "\n",
    "def validate(model, criterion, val_input, val_target, device=\"cpu\"):\n",
    "    output = model(val_input.float().to(device))\n",
    "    loss = criterion(output, val_target.float().to(device))\n",
    "    return loss.item()\n",
    "\n",
    "\n",
    "def train(model, criterion, optimizer, train_input, train_target, val_input, val_target, num_epochs, mini_batch_size, device=\"cpu\"):\n",
    "    train_input, train_target = train_input.float().to(device), train_target.float().to(device)\n",
    "    loss_history = {\"train_loss\":[], \"val_loss\":[]}\n",
    "    for e in range(num_epochs):\n",
    "        print(f\"Epoch: {e}\")\n",
    "        avg_loss = 0\n",
    "        for b in range(0, train_input.size(0), mini_batch_size):\n",
    "            output = model(train_input.narrow(0, b, mini_batch_size).float().to(device))\n",
    "            loss = criterion(output, train_target.narrow(0, b, mini_batch_size).float().to(device))\n",
    "            avg_loss += loss.item()\n",
    "            optimizer.zero_grad()\n",
    "            loss.backward()\n",
    "            optimizer.step()\n",
    "        with torch.no_grad():\n",
    "            validate_loss = validate(model, criterion, val_input, val_target)\n",
    "        avg_loss /= (train_input.size(0) // mini_batch_size)\n",
    "        loss_history[\"train_loss\"].append(avg_loss)\n",
    "        loss_history[\"val_loss\"].append(validate_loss)\n",
    "        print(\"Train Loss:\", avg_loss)\n",
    "        print(\"Val Loss:\", validate_loss)\n",
    "    return loss_history"
   ]
  },
  {
   "cell_type": "code",
   "execution_count": 19,
   "metadata": {},
   "outputs": [
    {
     "name": "stdout",
     "output_type": "stream",
     "text": [
      "Epoch: 0\n",
      "Train Loss: 5595.631474304199\n",
      "Val Loss: 1.1031721830368042\n",
      "Epoch: 1\n",
      "Train Loss: 1.1000828504562379\n",
      "Val Loss: 1.1236262321472168\n",
      "Epoch: 2\n",
      "Train Loss: 1.1098909378051758\n",
      "Val Loss: 1.1221673488616943\n",
      "Epoch: 3\n",
      "Train Loss: 1.1085862874984742\n",
      "Val Loss: 1.1194268465042114\n",
      "Epoch: 4\n",
      "Train Loss: 1.1061869144439698\n",
      "Val Loss: 1.1152408123016357\n",
      "Epoch: 5\n",
      "Train Loss: 1.1031871080398559\n",
      "Val Loss: 1.1102447509765625\n",
      "Epoch: 6\n",
      "Train Loss: 1.1006292343139648\n",
      "Val Loss: 1.1059964895248413\n",
      "Epoch: 7\n",
      "Train Loss: 1.0994500398635865\n",
      "Val Loss: 1.1029589176177979\n",
      "Epoch: 8\n",
      "Train Loss: 1.0990732908248901\n",
      "Val Loss: 1.101159691810608\n",
      "Epoch: 9\n",
      "Train Loss: 1.0987315416336059\n",
      "Val Loss: 1.100487232208252\n",
      "Epoch: 10\n",
      "Train Loss: 1.0985193967819213\n",
      "Val Loss: 1.1003801822662354\n",
      "Epoch: 11\n",
      "Train Loss: 1.0984703540802\n",
      "Val Loss: 1.100256323814392\n",
      "Epoch: 12\n",
      "Train Loss: 1.0984578847885131\n",
      "Val Loss: 1.0999807119369507\n",
      "Epoch: 13\n",
      "Train Loss: 1.0984513282775878\n",
      "Val Loss: 1.0996981859207153\n",
      "Epoch: 14\n",
      "Train Loss: 1.0984646081924438\n",
      "Val Loss: 1.0995581150054932\n",
      "Epoch: 15\n",
      "Train Loss: 1.098485779762268\n",
      "Val Loss: 1.099592924118042\n",
      "Epoch: 16\n",
      "Train Loss: 1.0984952688217162\n",
      "Val Loss: 1.0997370481491089\n",
      "Epoch: 17\n",
      "Train Loss: 1.0984914779663086\n",
      "Val Loss: 1.0998961925506592\n",
      "Epoch: 18\n",
      "Train Loss: 1.0984820604324341\n",
      "Val Loss: 1.1000055074691772\n",
      "Epoch: 19\n",
      "Train Loss: 1.0984726190567016\n",
      "Val Loss: 1.100049614906311\n",
      "Epoch: 20\n",
      "Train Loss: 1.0984665393829345\n",
      "Val Loss: 1.1000497341156006\n",
      "Epoch: 21\n",
      "Train Loss: 1.0984647512435912\n",
      "Val Loss: 1.1000350713729858\n",
      "Epoch: 22\n",
      "Train Loss: 1.0984658479690552\n",
      "Val Loss: 1.1000252962112427\n",
      "Epoch: 23\n",
      "Train Loss: 1.0984674215316772\n",
      "Val Loss: 1.100023627281189\n",
      "Epoch: 24\n",
      "Train Loss: 1.098468017578125\n",
      "Val Loss: 1.1000248193740845\n",
      "Epoch: 25\n",
      "Train Loss: 1.0984677076339722\n",
      "Val Loss: 1.1000220775604248\n",
      "Epoch: 26\n",
      "Train Loss: 1.098466944694519\n",
      "Val Loss: 1.1000144481658936\n",
      "Epoch: 27\n",
      "Train Loss: 1.098466658592224\n",
      "Val Loss: 1.1000041961669922\n",
      "Epoch: 28\n",
      "Train Loss: 1.098466968536377\n",
      "Val Loss: 1.0999952554702759\n",
      "Epoch: 29\n",
      "Train Loss: 1.0984676361083985\n",
      "Val Loss: 1.099990963935852\n",
      "Epoch: 30\n",
      "Train Loss: 1.0984683752059936\n",
      "Val Loss: 1.0999908447265625\n",
      "Epoch: 31\n",
      "Train Loss: 1.0984689474105835\n",
      "Val Loss: 1.0999928712844849\n",
      "Epoch: 32\n",
      "Train Loss: 1.0984691381454468\n",
      "Val Loss: 1.099995493888855\n",
      "Epoch: 33\n",
      "Train Loss: 1.0984691619873046\n",
      "Val Loss: 1.0999971628189087\n",
      "Epoch: 34\n",
      "Train Loss: 1.0984692096710205\n",
      "Val Loss: 1.0999974012374878\n",
      "Epoch: 35\n",
      "Train Loss: 1.0984692573547363\n",
      "Val Loss: 1.0999972820281982\n",
      "Epoch: 36\n",
      "Train Loss: 1.0984694480895996\n",
      "Val Loss: 1.0999971628189087\n",
      "Epoch: 37\n",
      "Train Loss: 1.098469614982605\n",
      "Val Loss: 1.0999970436096191\n",
      "Epoch: 38\n",
      "Train Loss: 1.0984697580337524\n",
      "Val Loss: 1.0999970436096191\n",
      "Epoch: 39\n",
      "Train Loss: 1.0984699726104736\n",
      "Val Loss: 1.0999970436096191\n",
      "Epoch: 40\n",
      "Train Loss: 1.098470115661621\n",
      "Val Loss: 1.0999966859817505\n",
      "Epoch: 41\n",
      "Train Loss: 1.0984702110290527\n",
      "Val Loss: 1.0999960899353027\n",
      "Epoch: 42\n",
      "Train Loss: 1.0984703540802\n",
      "Val Loss: 1.0999956130981445\n",
      "Epoch: 43\n",
      "Train Loss: 1.0984705209732055\n",
      "Val Loss: 1.0999951362609863\n",
      "Epoch: 44\n"
     ]
    },
    {
     "ename": "KeyboardInterrupt",
     "evalue": "",
     "output_type": "error",
     "traceback": [
      "\u001b[0;31m---------------------------------------------------------------------------\u001b[0m",
      "\u001b[0;31mKeyboardInterrupt\u001b[0m                         Traceback (most recent call last)",
      "Cell \u001b[0;32mIn [19], line 1\u001b[0m\n\u001b[0;32m----> 1\u001b[0m history \u001b[39m=\u001b[39m train(model, criterion, opt, torch\u001b[39m.\u001b[39;49mTensor(x_train_r), torch\u001b[39m.\u001b[39;49mTensor(y_train), torch\u001b[39m.\u001b[39;49mTensor(x_val_r), torch\u001b[39m.\u001b[39;49mTensor(y_val), num_epochs\u001b[39m=\u001b[39;49m\u001b[39m100\u001b[39;49m, mini_batch_size\u001b[39m=\u001b[39;49mx_train_r\u001b[39m.\u001b[39;49mshape[\u001b[39m0\u001b[39;49m] \u001b[39m/\u001b[39;49m\u001b[39m/\u001b[39;49m \u001b[39m5\u001b[39;49m)\n",
      "Cell \u001b[0;32mIn [11], line 18\u001b[0m, in \u001b[0;36mtrain\u001b[0;34m(model, criterion, optimizer, train_input, train_target, val_input, val_target, num_epochs, mini_batch_size, device)\u001b[0m\n\u001b[1;32m     16\u001b[0m     avg_loss \u001b[39m+\u001b[39m\u001b[39m=\u001b[39m loss\u001b[39m.\u001b[39mitem()\n\u001b[1;32m     17\u001b[0m     optimizer\u001b[39m.\u001b[39mzero_grad()\n\u001b[0;32m---> 18\u001b[0m     loss\u001b[39m.\u001b[39;49mbackward()\n\u001b[1;32m     19\u001b[0m     optimizer\u001b[39m.\u001b[39mstep()\n\u001b[1;32m     20\u001b[0m \u001b[39mwith\u001b[39;00m torch\u001b[39m.\u001b[39mno_grad():\n",
      "File \u001b[0;32m~/.local/lib/python3.9/site-packages/torch/_tensor.py:396\u001b[0m, in \u001b[0;36mTensor.backward\u001b[0;34m(self, gradient, retain_graph, create_graph, inputs)\u001b[0m\n\u001b[1;32m    387\u001b[0m \u001b[39mif\u001b[39;00m has_torch_function_unary(\u001b[39mself\u001b[39m):\n\u001b[1;32m    388\u001b[0m     \u001b[39mreturn\u001b[39;00m handle_torch_function(\n\u001b[1;32m    389\u001b[0m         Tensor\u001b[39m.\u001b[39mbackward,\n\u001b[1;32m    390\u001b[0m         (\u001b[39mself\u001b[39m,),\n\u001b[0;32m   (...)\u001b[0m\n\u001b[1;32m    394\u001b[0m         create_graph\u001b[39m=\u001b[39mcreate_graph,\n\u001b[1;32m    395\u001b[0m         inputs\u001b[39m=\u001b[39minputs)\n\u001b[0;32m--> 396\u001b[0m torch\u001b[39m.\u001b[39;49mautograd\u001b[39m.\u001b[39;49mbackward(\u001b[39mself\u001b[39;49m, gradient, retain_graph, create_graph, inputs\u001b[39m=\u001b[39;49minputs)\n",
      "File \u001b[0;32m~/.local/lib/python3.9/site-packages/torch/autograd/__init__.py:173\u001b[0m, in \u001b[0;36mbackward\u001b[0;34m(tensors, grad_tensors, retain_graph, create_graph, grad_variables, inputs)\u001b[0m\n\u001b[1;32m    168\u001b[0m     retain_graph \u001b[39m=\u001b[39m create_graph\n\u001b[1;32m    170\u001b[0m \u001b[39m# The reason we repeat same the comment below is that\u001b[39;00m\n\u001b[1;32m    171\u001b[0m \u001b[39m# some Python versions print out the first line of a multi-line function\u001b[39;00m\n\u001b[1;32m    172\u001b[0m \u001b[39m# calls in the traceback and some print out the last line\u001b[39;00m\n\u001b[0;32m--> 173\u001b[0m Variable\u001b[39m.\u001b[39;49m_execution_engine\u001b[39m.\u001b[39;49mrun_backward(  \u001b[39m# Calls into the C++ engine to run the backward pass\u001b[39;49;00m\n\u001b[1;32m    174\u001b[0m     tensors, grad_tensors_, retain_graph, create_graph, inputs,\n\u001b[1;32m    175\u001b[0m     allow_unreachable\u001b[39m=\u001b[39;49m\u001b[39mTrue\u001b[39;49;00m, accumulate_grad\u001b[39m=\u001b[39;49m\u001b[39mTrue\u001b[39;49;00m)\n",
      "\u001b[0;31mKeyboardInterrupt\u001b[0m: "
     ]
    }
   ],
   "source": [
    "history = train(model, criterion, opt, torch.Tensor(x_train_r), torch.Tensor(y_train), torch.Tensor(x_val_r), torch.Tensor(y_val), num_epochs=100, mini_batch_size=x_train_r.shape[0] // 5)"
   ]
  },
  {
   "cell_type": "code",
   "execution_count": 36,
   "metadata": {},
   "outputs": [
    {
     "data": {
      "text/plain": [
       "<matplotlib.legend.Legend at 0x7f87fddc7610>"
      ]
     },
     "execution_count": 36,
     "metadata": {},
     "output_type": "execute_result"
    },
    {
     "data": {
      "image/png": "[encoded data removed]",
      "text/plain": [
       "<Figure size 640x480 with 1 Axes>"
      ]
     },
     "metadata": {},
     "output_type": "display_data"
    }
   ],
   "source": [
    "\n",
    "train_loss = history['train_loss']\n",
    "val_loss = history['val_loss']\n",
    "\n",
    "plt.figure()\n",
    "plt.clf()\n",
    "plt.xlabel('Epochs')\n",
    "plt.ylabel('Loss')\n",
    "plt.plot(np.arange(0, len(train_loss)), train_loss, color='r', label='training loss')\n",
    "plt.plot(np.arange(0, len(val_loss)), val_loss, color='g', label='validation loss')\n",
    "plt.legend()"
   ]
  },
  {
   "cell_type": "code",
   "execution_count": 37,
   "metadata": {},
   "outputs": [],
   "source": [
    "\n",
    "def evaluate(model, x_test, y_test):\n",
    "    y_pred = model(x_test).detach()\n",
    "    res = np.argmax(y_pred, axis = 1) \n",
    "    \n",
    "    target = np.argmax(y_test, axis = 1)\n",
    "    train_acc = torch.sum(res == target) / x_test.size(0)\n",
    "\n",
    "    return train_acc"
   ]
  },
  {
   "cell_type": "code",
   "execution_count": 38,
   "metadata": {},
   "outputs": [
    {
     "name": "stdout",
     "output_type": "stream",
     "text": [
      "Evaluate model:\n",
      "Test accuracy: 33.47%\n"
     ]
    }
   ],
   "source": [
    "\n",
    "print('Evaluate model:')\n",
    "#results = model.evaluate(x_test_r, y_test)\n",
    "accuracy = evaluate(model, torch.Tensor(x_test_r), torch.Tensor(y_test))\n",
    "#print('Test loss: {:f}'.format(results[0]))\n",
    "print('Test accuracy: {:.2f}%'.format(accuracy * 100))"
   ]
  },
  {
   "cell_type": "code",
   "execution_count": 39,
   "metadata": {},
   "outputs": [
    {
     "data": {
      "text/plain": [
       "<matplotlib.image.AxesImage at 0x7f87fddc0c70>"
      ]
     },
     "execution_count": 39,
     "metadata": {},
     "output_type": "execute_result"
    },
    {
     "data": {
      "image/png": "[encoded data removed]",
      "text/plain": [
       "<Figure size 640x480 with 1 Axes>"
      ]
     },
     "metadata": {},
     "output_type": "display_data"
    }
   ],
   "source": [
    "\n",
    "# Plot a confusion matrix\n",
    "y_pred = model(torch.Tensor(x_test_r)).detach()\n",
    "\n",
    "y_pred_class_n = np.argmax(y_pred, axis=1)\n",
    "y_true_class_n = np.argmax(y_test, axis=1)\n",
    "\n",
    "#accuracy = accuracy_score(y_true_class_n, y_pred_class_n)\n",
    "#np.set_printoptions(precision=2)\n",
    "#print(\"Accuracy = {:.2f}%\".format(accuracy * 100))\n",
    "\n",
    "cm = confusion_matrix(y_true_class_n, y_pred_class_n, labels=[0,1,2])\n",
    "\n",
    "# Loop over data dimensions and create text annotations.\n",
    "thresh = cm.max() / 2.\n",
    "for i in range(cm.shape[0]):\n",
    "    for j in range(cm.shape[1]):\n",
    "        plt.text(j, i, format(cm[i, j], 'd'),\n",
    "                ha=\"center\", va=\"center\",\n",
    "                color=\"white\" if cm[i, j] > thresh else \"black\")\n",
    "\n",
    "plt.imshow(cm, cmap=plt.cm.Blues)"
   ]
  }
 ],
 "metadata": {
  "kernelspec": {
   "display_name": "Python 3.9.2 64-bit",
   "language": "python",
   "name": "python3"
  },
  "language_info": {
   "codemirror_mode": {
    "name": "ipython",
    "version": 3
   },
   "file_extension": ".py",
   "mimetype": "text/x-python",
   "name": "python",
   "nbconvert_exporter": "python",
   "pygments_lexer": "ipython3",
   "version": "3.9.2"
  },
  "orig_nbformat": 4,
  "vscode": {
   "interpreter": {
    "hash": "e7370f93d1d0cde622a1f8e1c04877d8463912d04d973331ad4851f04de6915a"
   }
  }
 },
 "nbformat": 4,
 "nbformat_minor": 2
}

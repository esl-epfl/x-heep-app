{
 "cells": [
  {
   "cell_type": "code",
   "execution_count": 11,
   "metadata": {},
   "outputs": [],
   "source": [
    "DATA_FOLDER = \"../data\"\n",
    "fileset = {\n",
    "    \"1\": ((f\"{DATA_FOLDER}/s11_1_dry.data.csv\", f\"{DATA_FOLDER}/s11_2_dry.data.csv\"),\n",
    "          (f\"{DATA_FOLDER}/s12_1_dry.data.csv\", f\"{DATA_FOLDER}/s12_2_dry.data.csv\"),\n",
    "          (f\"{DATA_FOLDER}/s13_1_dry.data.csv\", f\"{DATA_FOLDER}/s13_2_dry.data.csv\"),\n",
    "          (f\"{DATA_FOLDER}/s14_1_dry.data.csv\", f\"{DATA_FOLDER}/s14_2_dry.data.csv\")),\n",
    "    \"2\": ((f\"{DATA_FOLDER}/s21_1_dry.data.csv\", f\"{DATA_FOLDER}/s21_2_dry.data.csv\"),\n",
    "          (f\"{DATA_FOLDER}/s22_1_dry.data.csv\", f\"{DATA_FOLDER}/s22_2_dry.data.csv\"),\n",
    "          (f\"{DATA_FOLDER}/s23_1_dry.data.csv\", f\"{DATA_FOLDER}/s23_2_dry.data.csv\"),\n",
    "          (f\"{DATA_FOLDER}/s24_1_dry.data.csv\", f\"{DATA_FOLDER}/s24_2_dry.data.csv\")),\n",
    "    \"3\": ((f\"{DATA_FOLDER}/s31_1_dry.data.csv\", f\"{DATA_FOLDER}/s31_2_dry.data.csv\"),\n",
    "          (f\"{DATA_FOLDER}/s32_1_dry.data.csv\", f\"{DATA_FOLDER}/s32_2_dry.data.csv\"),\n",
    "          (f\"{DATA_FOLDER}/s33_1_dry.data.csv\", f\"{DATA_FOLDER}/s33_2_dry.data.csv\"),\n",
    "          (f\"{DATA_FOLDER}/s34_1_dry.data.csv\", f\"{DATA_FOLDER}/s34_2_dry.data.csv\"))\n",
    "}\n"
   ]
  },
  {
   "cell_type": "code",
   "execution_count": 8,
   "metadata": {},
   "outputs": [
    {
     "name": "stdout",
     "output_type": "stream",
     "text": [
      "File:  ../data/s11_1_dry.data.csv\n",
      "File:  ../data/s11_2_dry.data.csv\n",
      "File:  ../data/s12_1_dry.data.csv\n",
      "File:  ../data/s12_2_dry.data.csv\n",
      "File:  ../data/s13_1_dry.data.csv\n",
      "File:  ../data/s13_2_dry.data.csv\n",
      "File:  ../data/s14_1_dry.data.csv\n",
      "File:  ../data/s14_2_dry.data.csv\n",
      "File:  ../data/s21_1_dry.data.csv\n",
      "File:  ../data/s21_2_dry.data.csv\n",
      "File:  ../data/s22_1_dry.data.csv\n",
      "File:  ../data/s22_2_dry.data.csv\n",
      "File:  ../data/s23_1_dry.data.csv\n",
      "File:  ../data/s23_2_dry.data.csv\n",
      "File:  ../data/s24_1_dry.data.csv\n",
      "File:  ../data/s24_2_dry.data.csv\n",
      "File:  ../data/s31_1_dry.data.csv\n",
      "File:  ../data/s31_2_dry.data.csv\n",
      "File:  ../data/s32_1_dry.data.csv\n",
      "File:  ../data/s32_2_dry.data.csv\n",
      "File:  ../data/s33_1_dry.data.csv\n",
      "File:  ../data/s33_2_dry.data.csv\n",
      "File:  ../data/s34_1_dry.data.csv\n",
      "File:  ../data/s34_2_dry.data.csv\n"
     ]
    }
   ],
   "source": [
    "dataset = {\n",
    "    \"1\":[],\n",
    "    \"2\":[],\n",
    "    \"3\":[]\n",
    "}\n",
    "for target, files in fileset.items():\n",
    "    with open(f\"{DATA_FOLDER}/data_{target}\", \"w\") as output_file:\n",
    "        for sample_file in files:\n",
    "            for file in sample_file:\n",
    "                with open(file, \"r\") as f:\n",
    "                    print(\"File: \", file)\n",
    "                    values = f.readline().split(\",\")\n",
    "                    for b in range(0, len(values), 35000):\n",
    "                        if len(values) - b < 35000:continue\n",
    "                        output_file.write(\",\".join(values[b:b+35000]))\n",
    "                        output_file.write(\"\\n\")\n"
   ]
  },
  {
   "cell_type": "code",
   "execution_count": 12,
   "metadata": {},
   "outputs": [],
   "source": [
    "with open(f\"{DATA_FOLDER}/dataset_X\", \"w\") as output_file:\n",
    "    with open(f\"{DATA_FOLDER}/dataset_y\", \"w\") as output_file_y:\n",
    "        for target in fileset.keys():\n",
    "            with open(f\"{DATA_FOLDER}/data_{target}\", \"r\") as input_file:\n",
    "                for line in input_file:\n",
    "                    output_file.write(line)\n",
    "                    output_file_y.write(f\"{target}\\n\")\n"
   ]
  }
 ],
 "metadata": {
  "kernelspec": {
   "display_name": "Python 3.9.2 64-bit",
   "language": "python",
   "name": "python3"
  },
  "language_info": {
   "codemirror_mode": {
    "name": "ipython",
    "version": 3
   },
   "file_extension": ".py",
   "mimetype": "text/x-python",
   "name": "python",
   "nbconvert_exporter": "python",
   "pygments_lexer": "ipython3",
   "version": "3.9.2"
  },
  "orig_nbformat": 4,
  "vscode": {
   "interpreter": {
    "hash": "e7370f93d1d0cde622a1f8e1c04877d8463912d04d973331ad4851f04de6915a"
   }
  }
 },
 "nbformat": 4,
 "nbformat_minor": 2
}
